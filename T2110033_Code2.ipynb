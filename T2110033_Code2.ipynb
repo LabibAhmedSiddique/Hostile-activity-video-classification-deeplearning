{
  "nbformat": 4,
  "nbformat_minor": 5,
  "metadata": {
    "kernelspec": {
      "display_name": "Python 3",
      "language": "python",
      "name": "python3"
    },
    "language_info": {
      "codemirror_mode": {
        "name": "ipython",
        "version": 3
      },
      "file_extension": ".py",
      "mimetype": "text/x-python",
      "name": "python",
      "nbconvert_exporter": "python",
      "pygments_lexer": "ipython3",
      "version": "3.8.10"
    },
    "varInspector": {
      "cols": {
        "lenName": 16,
        "lenType": 16,
        "lenVar": 40
      },
      "kernels_config": {
        "python": {
          "delete_cmd_postfix": "",
          "delete_cmd_prefix": "del ",
          "library": "var_list.py",
          "varRefreshCmd": "print(var_dic_list())"
        },
        "r": {
          "delete_cmd_postfix": ") ",
          "delete_cmd_prefix": "rm(",
          "library": "var_list.r",
          "varRefreshCmd": "cat(var_dic_list()) "
        }
      },
      "types_to_exclude": [
        "module",
        "function",
        "builtin_function_or_method",
        "instance",
        "_Feature"
      ],
      "window_display": false
    },
    "colab": {
      "name": "transformer.ipynb",
      "provenance": [],
      "collapsed_sections": []
    },
    "accelerator": "GPU"
  },
  "cells": [
    {
      "cell_type": "code",
      "metadata": {
        "id": "QXuV8KqCSkcr"
      },
      "source": [
        ""
      ],
      "id": "QXuV8KqCSkcr",
      "execution_count": null,
      "outputs": []
    },
    {
      "cell_type": "code",
      "metadata": {
        "colab": {
          "base_uri": "https://localhost:8080/"
        },
        "id": "CW_354lASqa5",
        "outputId": "0acbea28-7a8c-4103-b9e8-074efc9cb481"
      },
      "source": [
        "from google.colab import drive\n",
        "drive.mount('/content/drive')"
      ],
      "id": "CW_354lASqa5",
      "execution_count": null,
      "outputs": [
        {
          "output_type": "stream",
          "name": "stdout",
          "text": [
            "Mounted at /content/drive\n"
          ]
        }
      ]
    },
    {
      "cell_type": "code",
      "source": [
        "!pip install -q git+https://github.com/tensorflow/docs"
      ],
      "metadata": {
        "colab": {
          "base_uri": "https://localhost:8080/"
        },
        "id": "XRBVKt6v6XLS",
        "outputId": "052fad43-d49c-4d7d-fb49-054f325c2f31"
      },
      "id": "XRBVKt6v6XLS",
      "execution_count": null,
      "outputs": [
        {
          "output_type": "stream",
          "name": "stdout",
          "text": [
            "  Building wheel for tensorflow-docs (setup.py) ... \u001b[?25l\u001b[?25hdone\n"
          ]
        }
      ]
    },
    {
      "cell_type": "code",
      "metadata": {
        "id": "cc7456f3"
      },
      "source": [
        "#just my usual imports that i essentialy do for all my projects, dont need all of em but hey i'm lazy to comment em out \n",
        "import tensorflow as tf \n",
        "import numpy as np \n",
        "from tensorflow import keras\n",
        "import os \n",
        "import random \n",
        "import cv2\n",
        "import matplotlib.pyplot as plt\n",
        "from tensorflow_docs.vis import embed\n",
        "from tensorflow.keras import layers\n",
        "from tensorflow import keras\n",
        "\n",
        "import matplotlib.pyplot as plt\n",
        "import tensorflow as tf\n",
        "import pandas as pd\n",
        "import numpy as np\n",
        "import imageio\n",
        "import cv2\n",
        "import os\n",
        "from tensorflow.keras.models import Model\n",
        "import numpy as np\n",
        "from sklearn.model_selection import train_test_split\n",
        "from sklearn.metrics import classification_report\n",
        "from tensorflow.keras import applications\n",
        "from tensorflow.keras.preprocessing.image import ImageDataGenerator\n",
        "from tensorflow.keras import optimizers\n",
        "from tensorflow.keras.models import Sequential, Model \n",
        "from tensorflow.keras.layers import *\n",
        "from tensorflow.keras.callbacks import ModelCheckpoint, LearningRateScheduler, TensorBoard, EarlyStopping \n",
        "from sklearn.metrics import accuracy_score\n",
        "from sklearn.metrics import precision_score\n",
        "from sklearn.metrics import recall_score\n",
        "from sklearn.metrics import f1_score\n",
        "from sklearn.metrics import cohen_kappa_score\n",
        "from sklearn.metrics import roc_auc_score\n",
        "from sklearn.metrics import multilabel_confusion_matrix\n",
        "from sklearn.model_selection import train_test_split \n",
        "from tensorflow.keras.utils import plot_model \n",
        "from sklearn.metrics import accuracy_score\n",
        "from sklearn.metrics import precision_score\n",
        "from sklearn.metrics import recall_score\n",
        "from sklearn.metrics import f1_score\n",
        "from sklearn.metrics import cohen_kappa_score\n",
        "from sklearn.metrics import roc_auc_score\n",
        "from sklearn.metrics import multilabel_confusion_matrix"
      ],
      "id": "cc7456f3",
      "execution_count": null,
      "outputs": []
    },
    {
      "cell_type": "code",
      "metadata": {
        "id": "cd5400cc"
      },
      "source": [
        "data_dir = r\"/content/drive/MyDrive/A-Dataset-for-Automatic-Violence-Detection-in-Videos-master\"\n",
        "img_height , img_width = 90, 90\n",
        "seq_len = 25\n",
        "embed_dim = 2048\n",
        "dense_dim = 4\n",
        "num_heads = 1 "
      ],
      "id": "cd5400cc",
      "execution_count": null,
      "outputs": []
    },
    {
      "cell_type": "code",
      "metadata": {
        "id": "e9c6f81d"
      },
      "source": [
        "classes = [\"non-violent\",\"violent\"]\n"
      ],
      "id": "e9c6f81d",
      "execution_count": null,
      "outputs": []
    },
    {
      "cell_type": "code",
      "metadata": {
        "id": "8284a725"
      },
      "source": [
        "\n",
        "X = X.astype(\"float32\") / 255.0"
      ],
      "id": "8284a725",
      "execution_count": null,
      "outputs": []
    },
    {
      "cell_type": "code",
      "metadata": {
        "colab": {
          "base_uri": "https://localhost:8080/"
        },
        "id": "a4b27568",
        "outputId": "04a1cb41-72b6-42e6-c901-2934150308bb"
      },
      "source": [
        "X.shape"
      ],
      "id": "a4b27568",
      "execution_count": null,
      "outputs": [
        {
          "output_type": "execute_result",
          "data": {
            "text/plain": [
              "(291, 50, 90, 90, 3)"
            ]
          },
          "metadata": {},
          "execution_count": 7
        }
      ]
    },
    {
      "cell_type": "code",
      "metadata": {
        "id": "dDyJRw3qcpvL"
      },
      "source": [
        "np.random.seed(1337)"
      ],
      "id": "dDyJRw3qcpvL",
      "execution_count": null,
      "outputs": []
    },
    {
      "cell_type": "code",
      "source": [
        "X= np.load('/content/drive/MyDrive/428/violance_X.npy')\n",
        "Y=np.load('/content/drive/MyDrive/428/violance_Y.npy')"
      ],
      "metadata": {
        "id": "iPhuOjDwB9yP"
      },
      "id": "iPhuOjDwB9yP",
      "execution_count": null,
      "outputs": []
    },
    {
      "cell_type": "code",
      "source": [
        "print(np.amax(X[0]))"
      ],
      "metadata": {
        "colab": {
          "base_uri": "https://localhost:8080/"
        },
        "id": "aBCu5h1N5sRl",
        "outputId": "0983d3a1-c349-4e36-c6a1-aafb57a650b5"
      },
      "id": "aBCu5h1N5sRl",
      "execution_count": null,
      "outputs": [
        {
          "output_type": "stream",
          "name": "stdout",
          "text": [
            "1.0\n"
          ]
        }
      ]
    },
    {
      "cell_type": "code",
      "metadata": {
        "colab": {
          "base_uri": "https://localhost:8080/"
        },
        "id": "c709aa3c",
        "outputId": "66e67563-8dc4-4e52-c509-23d026616403"
      },
      "source": [
        "epochs=50\n",
        "opt = keras.optimizers.SGD(lr=0.001 ,momentum = 0.9, decay = 1e-4/epochs)\n",
        "#model.compile(loss='categorical_crossentropy', optimizer=opt, metrics=[\"accuracy\"])"
      ],
      "id": "c709aa3c",
      "execution_count": null,
      "outputs": [
        {
          "output_type": "stream",
          "name": "stderr",
          "text": [
            "/usr/local/lib/python3.7/dist-packages/keras/optimizer_v2/gradient_descent.py:102: UserWarning: The `lr` argument is deprecated, use `learning_rate` instead.\n",
            "  super(SGD, self).__init__(name, **kwargs)\n"
          ]
        }
      ]
    },
    {
      "cell_type": "code",
      "metadata": {
        "id": "8a18a9f6"
      },
      "source": [
        "earlystop = EarlyStopping(patience=7)\n",
        "callbacks = [earlystop]"
      ],
      "id": "8a18a9f6",
      "execution_count": null,
      "outputs": []
    },
    {
      "cell_type": "markdown",
      "source": [
        "## CNN-transformer"
      ],
      "metadata": {
        "id": "8ITDQpWZ6m9Z"
      },
      "id": "8ITDQpWZ6m9Z"
    },
    {
      "cell_type": "code",
      "source": [
        "X_train, X_test, y_train, y_test = train_test_split(X, Y, test_size=0.1, shuffle=True, random_state=0)"
      ],
      "metadata": {
        "id": "UOwb7bptAwJs"
      },
      "id": "UOwb7bptAwJs",
      "execution_count": null,
      "outputs": []
    },
    {
      "cell_type": "code",
      "source": [
        "# MODEL\n",
        "\n",
        "class PositionalEmbedding(layers.Layer):\n",
        "  def __init__(self, sequence_length, output_dim, **kwargs):\n",
        "    super().__init__(**kwargs)\n",
        "    self.position_embeddings = layers.Embedding(input_dim=sequence_length, output_dim=output_dim)\n",
        "    self.sequence_length = sequence_length\n",
        "    self.output_dim = output_dim\n",
        "  \n",
        "  def call(self, inputs):\n",
        "    length = tf.shape(inputs)[1]\n",
        "    positions =tf.range(start=0, limit=length, delta=1)\n",
        "    embedded_positions = self.position_embeddings(positions)\n",
        "    return inputs + embedded_positions\n",
        "\n",
        "  def compute_mask(self, inputs, mask=None):\n",
        "    mask = tf.reduce_any(tf.cast(inputs, \"bool\"), axis=-1)"
      ],
      "metadata": {
        "id": "2pJZRHShxNPE"
      },
      "id": "2pJZRHShxNPE",
      "execution_count": null,
      "outputs": []
    },
    {
      "cell_type": "code",
      "source": [
        "class TransformerEncoder(layers.Layer):\n",
        "  def __init__(self, embed_dim, dense_dim, num_heads, **kwargs):\n",
        "    super().__init__(**kwargs)\n",
        "    self.embed_dim = embed_dim\n",
        "    self.dense_dim = dense_dim\n",
        "    self.num_heads = num_heads\n",
        "    self.attention = layers.MultiHeadAttention(num_heads=num_heads, key_dim=embed_dim, dropout=0.3)\n",
        "    self.dense_proj = keras.Sequential([layers.Dense(dense_dim, activation=tf.nn.gelu), layers.Dense(embed_dim),])\n",
        "    self.layernorm_1 = layers.LayerNormalization()\n",
        "    self.layernorm_2 = layers.LayerNormalization()\n",
        "\n",
        "  def call(self, inputs, mask=None):\n",
        "    if mask is not None:\n",
        "      mask = mask[:, tf.newaxis, :]\n",
        "    attention_output = self.attention(inputs, inputs, attention_mask = mask)\n",
        "    proj_input = self.layernorm_1(inputs + attention_output)\n",
        "    proj_output = self.dense_proj(proj_input)\n",
        "    return self.layernorm_2(proj_input + proj_output)"
      ],
      "metadata": {
        "id": "fdHyOdzoyZxy"
      },
      "id": "fdHyOdzoyZxy",
      "execution_count": null,
      "outputs": []
    },
    {
      "cell_type": "code",
      "source": [
        "def cnnModel(seqLen=seq_len,embedDim=2048,numHeads=8,frameSize=(img_height,img_width),dense_dim = 4,dense_dim2=8):\n",
        "  inputs = keras.Input(shape=(seq_len,img_height,img_width,3))\n",
        "  x=layers.TimeDistributed(layers.Conv2D(256,3,activation='relu'))(inputs)\n",
        "  x=layers.TimeDistributed(layers.Conv2D(256,3,activation='relu'))(x)\n",
        "  x=layers.TimeDistributed(layers.MaxPooling2D())(x)\n",
        "  x=layers.TimeDistributed(layers.Conv2D(128,3,activation='relu'))(x)\n",
        "  x=layers.TimeDistributed(layers.Conv2D(64,3,activation='relu'))(x)\n",
        "  x=layers.TimeDistributed(layers.GlobalMaxPooling2D())(x)\n",
        "  x = PositionalEmbedding(seq_len,np.shape(x)[-1], name=\"frame_position_embedding\")(x)\n",
        "\n",
        "  x = TransformerEncoder(np.shape(x)[-1], dense_dim, num_heads, name=\"transformer_layer\")(x)\n",
        "  x = layers.GlobalMaxPooling1D()(x)\n",
        "  x = layers.Dropout(0.5)(x)\n",
        "  outputs = layers.Dense(2, activation=\"softmax\")(x)\n",
        "  model = keras.Model(inputs, outputs)\n",
        "  return model"
      ],
      "metadata": {
        "id": "mW9PTdovyd3_"
      },
      "id": "mW9PTdovyd3_",
      "execution_count": null,
      "outputs": []
    },
    {
      "cell_type": "code",
      "source": [
        "frameSize=(90,90)\n",
        "numHeads=8\n",
        "dense_dim2=8"
      ],
      "metadata": {
        "id": "yamy37nE9_2U"
      },
      "id": "yamy37nE9_2U",
      "execution_count": null,
      "outputs": []
    },
    {
      "cell_type": "markdown",
      "source": [
        "LEARNING_RATE = 0.001\n",
        "WEIGHT_DECAY = 1e-5\n",
        "epochs=50"
      ],
      "metadata": {
        "id": "LJoxA8yr-hjO"
      },
      "id": "LJoxA8yr-hjO"
    },
    {
      "cell_type": "code",
      "source": [
        "LEARNING_RATE = 1e-4\n",
        "WEIGHT_DECAY = 1e-5 \n",
        "epochs=50"
      ],
      "metadata": {
        "id": "1ff7pf1BAM48"
      },
      "id": "1ff7pf1BAM48",
      "execution_count": null,
      "outputs": []
    },
    {
      "cell_type": "code",
      "source": [
        "\n",
        "model = cnnModel(seqLen=seq_len,embedDim=embed_dim,numHeads=numHeads,frameSize=frameSize,dense_dim = dense_dim,dense_dim2=dense_dim2)\n",
        "\n",
        "\n",
        "# Compile the model with the optimizer, loss function\n",
        "# and the metrics.\n",
        "optimizer = keras.optimizers.Adam(learning_rate=LEARNING_RATE)\n",
        "model.compile(\n",
        "optimizer=optimizer,\n",
        "loss=\"categorical_crossentropy\",\n",
        "metrics=[\"accuracy\"\n",
        "\n",
        "],\n",
        ")\n",
        "\n",
        "# Train the model.\n",
        "history = model.fit(x = X_train, y = y_train, epochs=epochs, batch_size = 8 , shuffle=True, validation_split=0.1, callbacks=callbacks)\n",
        "\n",
        "\n",
        "\n",
        "\n",
        "    \n",
        "\n"
      ],
      "metadata": {
        "colab": {
          "base_uri": "https://localhost:8080/"
        },
        "id": "ErJNg7GO80K-",
        "outputId": "f156d8cc-a90b-4e0c-ae61-5cedd45c2870"
      },
      "id": "ErJNg7GO80K-",
      "execution_count": null,
      "outputs": [
        {
          "output_type": "stream",
          "name": "stdout",
          "text": [
            "Epoch 1/50\n",
            "30/30 [==============================] - 61s 1s/step - loss: 1.1614 - accuracy: 0.5812 - val_loss: 0.7932 - val_accuracy: 0.4444\n",
            "Epoch 2/50\n",
            "30/30 [==============================] - 36s 1s/step - loss: 0.7920 - accuracy: 0.5855 - val_loss: 0.6529 - val_accuracy: 0.7037\n",
            "Epoch 3/50\n",
            "30/30 [==============================] - 37s 1s/step - loss: 0.6921 - accuracy: 0.6111 - val_loss: 0.6986 - val_accuracy: 0.5185\n",
            "Epoch 4/50\n",
            "30/30 [==============================] - 37s 1s/step - loss: 0.6630 - accuracy: 0.6325 - val_loss: 0.6187 - val_accuracy: 0.7778\n",
            "Epoch 5/50\n",
            "30/30 [==============================] - 38s 1s/step - loss: 0.6659 - accuracy: 0.6154 - val_loss: 0.5961 - val_accuracy: 0.8148\n",
            "Epoch 6/50\n",
            "30/30 [==============================] - 38s 1s/step - loss: 0.6354 - accuracy: 0.6752 - val_loss: 0.7263 - val_accuracy: 0.5185\n",
            "Epoch 7/50\n",
            "30/30 [==============================] - 39s 1s/step - loss: 0.5692 - accuracy: 0.7308 - val_loss: 0.6762 - val_accuracy: 0.5185\n",
            "Epoch 8/50\n",
            "30/30 [==============================] - 39s 1s/step - loss: 0.4842 - accuracy: 0.7778 - val_loss: 0.7202 - val_accuracy: 0.5556\n",
            "Epoch 9/50\n",
            "30/30 [==============================] - 39s 1s/step - loss: 0.4100 - accuracy: 0.8333 - val_loss: 0.6286 - val_accuracy: 0.5556\n",
            "Epoch 10/50\n",
            "30/30 [==============================] - 39s 1s/step - loss: 0.3721 - accuracy: 0.8333 - val_loss: 0.5929 - val_accuracy: 0.5556\n",
            "Epoch 11/50\n",
            "30/30 [==============================] - 39s 1s/step - loss: 0.3535 - accuracy: 0.8632 - val_loss: 0.4437 - val_accuracy: 0.8148\n",
            "Epoch 12/50\n",
            "30/30 [==============================] - 39s 1s/step - loss: 0.3071 - accuracy: 0.8718 - val_loss: 0.6646 - val_accuracy: 0.6667\n",
            "Epoch 13/50\n",
            "30/30 [==============================] - 39s 1s/step - loss: 0.2923 - accuracy: 0.8889 - val_loss: 0.4281 - val_accuracy: 0.8519\n",
            "Epoch 14/50\n",
            "30/30 [==============================] - 39s 1s/step - loss: 0.2951 - accuracy: 0.8547 - val_loss: 0.6440 - val_accuracy: 0.6667\n",
            "Epoch 15/50\n",
            "30/30 [==============================] - 39s 1s/step - loss: 0.2685 - accuracy: 0.9231 - val_loss: 0.3667 - val_accuracy: 0.8519\n",
            "Epoch 16/50\n",
            "30/30 [==============================] - 39s 1s/step - loss: 0.2442 - accuracy: 0.8889 - val_loss: 0.3720 - val_accuracy: 0.8148\n",
            "Epoch 17/50\n",
            "30/30 [==============================] - 39s 1s/step - loss: 0.2392 - accuracy: 0.8889 - val_loss: 0.3928 - val_accuracy: 0.8519\n",
            "Epoch 18/50\n",
            "30/30 [==============================] - 39s 1s/step - loss: 0.2124 - accuracy: 0.9231 - val_loss: 0.4391 - val_accuracy: 0.7407\n",
            "Epoch 19/50\n",
            "30/30 [==============================] - 39s 1s/step - loss: 0.2314 - accuracy: 0.9188 - val_loss: 0.4039 - val_accuracy: 0.6667\n",
            "Epoch 20/50\n",
            "30/30 [==============================] - 39s 1s/step - loss: 0.1932 - accuracy: 0.9487 - val_loss: 0.4326 - val_accuracy: 0.7407\n",
            "Epoch 21/50\n",
            "30/30 [==============================] - 39s 1s/step - loss: 0.1958 - accuracy: 0.9359 - val_loss: 0.3368 - val_accuracy: 0.8148\n",
            "Epoch 22/50\n",
            "30/30 [==============================] - 39s 1s/step - loss: 0.1695 - accuracy: 0.9316 - val_loss: 0.5146 - val_accuracy: 0.7037\n",
            "Epoch 23/50\n",
            "30/30 [==============================] - 39s 1s/step - loss: 0.1663 - accuracy: 0.9359 - val_loss: 0.3301 - val_accuracy: 0.8519\n",
            "Epoch 24/50\n",
            "30/30 [==============================] - 39s 1s/step - loss: 0.1797 - accuracy: 0.9145 - val_loss: 0.3959 - val_accuracy: 0.8519\n",
            "Epoch 25/50\n",
            "30/30 [==============================] - 39s 1s/step - loss: 0.1789 - accuracy: 0.9145 - val_loss: 0.4367 - val_accuracy: 0.7778\n",
            "Epoch 26/50\n",
            "30/30 [==============================] - 39s 1s/step - loss: 0.1696 - accuracy: 0.9530 - val_loss: 0.3525 - val_accuracy: 0.8519\n",
            "Epoch 27/50\n",
            "30/30 [==============================] - 39s 1s/step - loss: 0.1226 - accuracy: 0.9530 - val_loss: 0.5192 - val_accuracy: 0.6667\n",
            "Epoch 28/50\n",
            "30/30 [==============================] - 39s 1s/step - loss: 0.1237 - accuracy: 0.9615 - val_loss: 0.3001 - val_accuracy: 0.8519\n",
            "Epoch 29/50\n",
            "30/30 [==============================] - 39s 1s/step - loss: 0.1456 - accuracy: 0.9359 - val_loss: 0.4779 - val_accuracy: 0.7037\n",
            "Epoch 30/50\n",
            "30/30 [==============================] - 39s 1s/step - loss: 0.1220 - accuracy: 0.9615 - val_loss: 0.2859 - val_accuracy: 0.8889\n",
            "Epoch 31/50\n",
            "30/30 [==============================] - 39s 1s/step - loss: 0.1002 - accuracy: 0.9744 - val_loss: 0.3072 - val_accuracy: 0.8519\n",
            "Epoch 32/50\n",
            "30/30 [==============================] - 39s 1s/step - loss: 0.1203 - accuracy: 0.9573 - val_loss: 0.4875 - val_accuracy: 0.7037\n",
            "Epoch 33/50\n",
            "30/30 [==============================] - 39s 1s/step - loss: 0.0680 - accuracy: 0.9744 - val_loss: 0.4034 - val_accuracy: 0.7407\n",
            "Epoch 34/50\n",
            "30/30 [==============================] - 39s 1s/step - loss: 0.0905 - accuracy: 0.9744 - val_loss: 0.4466 - val_accuracy: 0.7778\n",
            "Epoch 35/50\n",
            "30/30 [==============================] - 39s 1s/step - loss: 0.1169 - accuracy: 0.9615 - val_loss: 0.3087 - val_accuracy: 0.8889\n",
            "Epoch 36/50\n",
            "30/30 [==============================] - 39s 1s/step - loss: 0.1336 - accuracy: 0.9573 - val_loss: 0.4514 - val_accuracy: 0.7407\n",
            "Epoch 37/50\n",
            "30/30 [==============================] - 39s 1s/step - loss: 0.0779 - accuracy: 0.9786 - val_loss: 0.3173 - val_accuracy: 0.8889\n"
          ]
        }
      ]
    },
    {
      "cell_type": "code",
      "source": [
        "transformer_score= model.evaluate(X_test,y_test, batch_size=8, verbose=2)"
      ],
      "metadata": {
        "colab": {
          "base_uri": "https://localhost:8080/"
        },
        "id": "b-qxLZ-PHX9u",
        "outputId": "96e9fddf-421d-46d2-f9f3-ae1703abe123"
      },
      "id": "b-qxLZ-PHX9u",
      "execution_count": null,
      "outputs": [
        {
          "output_type": "stream",
          "name": "stdout",
          "text": [
            "4/4 - 4s - loss: 0.6906 - accuracy: 0.7667 - 4s/epoch - 1s/step\n"
          ]
        }
      ]
    },
    {
      "cell_type": "code",
      "source": [
        "from sklearn.metrics import classification_report\n",
        "y_pred = model.predict(X_test)\n",
        "\n",
        "\n",
        "y_pred = np.argmax(y_pred, axis = 1)\n",
        "y_test = np.argmax(y_test, axis = 1)\n",
        "print(classification_report(y_test, y_pred))"
      ],
      "metadata": {
        "colab": {
          "base_uri": "https://localhost:8080/"
        },
        "id": "TXwZgoyUHfig",
        "outputId": "3b166bd3-930c-4807-9b23-1ac5afea312e"
      },
      "id": "TXwZgoyUHfig",
      "execution_count": null,
      "outputs": [
        {
          "output_type": "stream",
          "name": "stdout",
          "text": [
            "              precision    recall  f1-score   support\n",
            "\n",
            "           0       0.83      0.67      0.74        15\n",
            "           1       0.72      0.87      0.79        15\n",
            "\n",
            "    accuracy                           0.77        30\n",
            "   macro avg       0.78      0.77      0.76        30\n",
            "weighted avg       0.78      0.77      0.76        30\n",
            "\n"
          ]
        }
      ]
    },
    {
      "cell_type": "code",
      "source": [
        "history_loss, history_accuracy =transformer_score"
      ],
      "metadata": {
        "id": "eJX5JBeWHyBj"
      },
      "id": "eJX5JBeWHyBj",
      "execution_count": null,
      "outputs": []
    },
    {
      "cell_type": "code",
      "source": [
        "def plot_metric(metric_name_1, metric_name_2, plot_name):\n",
        "  # Get Metric values using metric names as identifiers\n",
        "  metric_value_1 = history.history[metric_name_1]\n",
        "  metric_value_2 = history.history[metric_name_2]\n",
        "\n",
        "  # Constructing a range object which will be used as time \n",
        "  epochs = range(len(metric_value_1))\n",
        "  \n",
        "  # Plotting the Graph\n",
        "  plt.plot(epochs, metric_value_1, 'blue', label = metric_name_1)\n",
        "  plt.plot(epochs, metric_value_2, 'red', label = metric_name_2)\n",
        "  \n",
        "  # Adding title to the plot\n",
        "  plt.title(str(plot_name))\n",
        "\n",
        "  # Adding legend to the plot\n",
        "  plt.legend()"
      ],
      "metadata": {
        "id": "MtFopRTIIC5d"
      },
      "id": "MtFopRTIIC5d",
      "execution_count": null,
      "outputs": []
    },
    {
      "cell_type": "code",
      "source": [
        "plot_metric('loss', 'val_loss', 'Total Loss vs Total Validation Loss')"
      ],
      "metadata": {
        "colab": {
          "base_uri": "https://localhost:8080/",
          "height": 281
        },
        "id": "1pEqUC2GIKA_",
        "outputId": "6bb56ed5-70a9-4317-cb1c-6f79e9cbebf5"
      },
      "id": "1pEqUC2GIKA_",
      "execution_count": null,
      "outputs": [
        {
          "output_type": "display_data",
          "data": {
            "text/plain": [
              "<Figure size 432x288 with 1 Axes>"
            ],
            "image/png": "[encoded data removed]"
          },
          "metadata": {
            "needs_background": "light"
          }
        }
      ]
    },
    {
      "cell_type": "code",
      "source": [
        "plt.plot(history.history['accuracy'])\n",
        "plt.plot(history.history['val_accuracy'])\n",
        "plt.title('model accuracy')\n",
        "plt.ylabel('accuracy')\n",
        "plt.xlabel('epoch')\n",
        "plt.legend(['train', 'val'], loc='upper left')\n",
        "plt.show()"
      ],
      "metadata": {
        "colab": {
          "base_uri": "https://localhost:8080/",
          "height": 295
        },
        "id": "2gO1BSvFVwbO",
        "outputId": "6b7631f5-edc6-4451-cdde-703ed1b755e6"
      },
      "id": "2gO1BSvFVwbO",
      "execution_count": null,
      "outputs": [
        {
          "output_type": "display_data",
          "data": {
            "text/plain": [
              "<Figure size 432x288 with 1 Axes>"
            ],
            "image/png": "[encoded data removed]"
          },
          "metadata": {
            "needs_background": "light"
          }
        }
      ]
    },
    {
      "cell_type": "code",
      "source": [
        "from sklearn.metrics import confusion_matrix\n",
        "import seaborn as sns\n",
        "matrix_confusion = confusion_matrix(y_test, y_pred)\n",
        "sns.heatmap(matrix_confusion, square=True, annot=True, cmap='Blues', fmt='d', cbar=False)"
      ],
      "metadata": {
        "colab": {
          "base_uri": "https://localhost:8080/",
          "height": 282
        },
        "id": "X2Y_o4FDV0PH",
        "outputId": "8f013d27-7d35-47e8-9ef0-a8c3e3f81066"
      },
      "id": "X2Y_o4FDV0PH",
      "execution_count": null,
      "outputs": [
        {
          "output_type": "execute_result",
          "data": {
            "text/plain": [
              "<matplotlib.axes._subplots.AxesSubplot at 0x7fabdd697b50>"
            ]
          },
          "metadata": {},
          "execution_count": 22
        },
        {
          "output_type": "display_data",
          "data": {
            "text/plain": [
              "<Figure size 432x288 with 1 Axes>"
            ],
            "image/png": "[encoded data removed]"
          },
          "metadata": {
            "needs_background": "light"
          }
        }
      ]
    },
    {
      "cell_type": "code",
      "source": [
        "import pandas as pd\n",
        "y_true=y_test\n",
        "con_mat = tf.math.confusion_matrix(labels=y_true, predictions=y_pred).numpy()\n",
        "con_mat_norm = np.around(con_mat.astype('float') / con_mat.sum(axis=1)[:, np.newaxis], decimals=2)\n",
        "\n",
        "con_mat_df = pd.DataFrame(con_mat_norm,\n",
        "                     index = classes, \n",
        "                     columns = classes)\n",
        "\n",
        "figure = plt.figure(figsize=(8, 8))\n",
        "sns.heatmap(con_mat_df, annot=True,cmap=plt.cm.Blues)\n",
        "plt.tight_layout()\n",
        "plt.ylabel('True label')\n",
        "plt.xlabel('Predicted label')\n",
        "plt.show()"
      ],
      "metadata": {
        "colab": {
          "base_uri": "https://localhost:8080/",
          "height": 599
        },
        "id": "ozTLYL9JV8Ti",
        "outputId": "542952b9-af4b-4973-d20d-df50f723c55a"
      },
      "id": "ozTLYL9JV8Ti",
      "execution_count": null,
      "outputs": [
        {
          "output_type": "display_data",
          "data": {
            "text/plain": [
              "<Figure size 576x576 with 2 Axes>"
            ],
            "image/png": "[encoded data removed]"
          },
          "metadata": {
            "needs_background": "light"
          }
        }
      ]
    },
    {
      "cell_type": "code",
      "source": [
        "model.save(\"/content/drive/MyDrive/saved model/transformer.h5\")"
      ],
      "metadata": {
        "colab": {
          "base_uri": "https://localhost:8080/",
          "height": 678
        },
        "id": "O9_-fUZdXC5Z",
        "outputId": "f792ecb9-4401-46e6-98d1-9ad0e4e4ee21"
      },
      "id": "O9_-fUZdXC5Z",
      "execution_count": null,
      "outputs": [
        {
          "output_type": "stream",
          "name": "stderr",
          "text": [
            "/usr/local/lib/python3.7/dist-packages/keras/engine/functional.py:1410: CustomMaskWarning: Custom mask layers require a config and must override get_config. When loading, the custom mask layer must be passed to the custom_objects argument.\n",
            "  layer_config = serialize_layer_fn(layer)\n"
          ]
        },
        {
          "output_type": "error",
          "ename": "NotImplementedError",
          "evalue": "ignored",
          "traceback": [
            "\u001b[0;31m---------------------------------------------------------------------------\u001b[0m",
            "\u001b[0;31mNotImplementedError\u001b[0m                       Traceback (most recent call last)",
            "\u001b[0;32m<ipython-input-25-f835bbb68b46>\u001b[0m in \u001b[0;36m<module>\u001b[0;34m()\u001b[0m\n\u001b[0;32m----> 1\u001b[0;31m \u001b[0mmodel\u001b[0m\u001b[0;34m.\u001b[0m\u001b[0msave\u001b[0m\u001b[0;34m(\u001b[0m\u001b[0;34m\"/content/drive/MyDrive/saved model/transformer.h5\"\u001b[0m\u001b[0;34m)\u001b[0m\u001b[0;34m\u001b[0m\u001b[0;34m\u001b[0m\u001b[0m\n\u001b[0m",
            "\u001b[0;32m/usr/local/lib/python3.7/dist-packages/keras/utils/traceback_utils.py\u001b[0m in \u001b[0;36merror_handler\u001b[0;34m(*args, **kwargs)\u001b[0m\n\u001b[1;32m     65\u001b[0m     \u001b[0;32mexcept\u001b[0m \u001b[0mException\u001b[0m \u001b[0;32mas\u001b[0m \u001b[0me\u001b[0m\u001b[0;34m:\u001b[0m  \u001b[0;31m# pylint: disable=broad-except\u001b[0m\u001b[0;34m\u001b[0m\u001b[0;34m\u001b[0m\u001b[0m\n\u001b[1;32m     66\u001b[0m       \u001b[0mfiltered_tb\u001b[0m \u001b[0;34m=\u001b[0m \u001b[0m_process_traceback_frames\u001b[0m\u001b[0;34m(\u001b[0m\u001b[0me\u001b[0m\u001b[0;34m.\u001b[0m\u001b[0m__traceback__\u001b[0m\u001b[0;34m)\u001b[0m\u001b[0;34m\u001b[0m\u001b[0;34m\u001b[0m\u001b[0m\n\u001b[0;32m---> 67\u001b[0;31m       \u001b[0;32mraise\u001b[0m \u001b[0me\u001b[0m\u001b[0;34m.\u001b[0m\u001b[0mwith_traceback\u001b[0m\u001b[0;34m(\u001b[0m\u001b[0mfiltered_tb\u001b[0m\u001b[0;34m)\u001b[0m \u001b[0;32mfrom\u001b[0m \u001b[0;32mNone\u001b[0m\u001b[0;34m\u001b[0m\u001b[0;34m\u001b[0m\u001b[0m\n\u001b[0m\u001b[1;32m     68\u001b[0m     \u001b[0;32mfinally\u001b[0m\u001b[0;34m:\u001b[0m\u001b[0;34m\u001b[0m\u001b[0;34m\u001b[0m\u001b[0m\n\u001b[1;32m     69\u001b[0m       \u001b[0;32mdel\u001b[0m \u001b[0mfiltered_tb\u001b[0m\u001b[0;34m\u001b[0m\u001b[0;34m\u001b[0m\u001b[0m\n",
            "\u001b[0;32m/usr/local/lib/python3.7/dist-packages/keras/engine/base_layer.py\u001b[0m in \u001b[0;36mget_config\u001b[0;34m(self)\u001b[0m\n\u001b[1;32m    774\u001b[0m                       \u001b[0;34m\"arg2\"\u001b[0m\u001b[0;34m:\u001b[0m \u001b[0mself\u001b[0m\u001b[0;34m.\u001b[0m\u001b[0marg2\u001b[0m\u001b[0;34m,\u001b[0m\u001b[0;34m\u001b[0m\u001b[0;34m\u001b[0m\u001b[0m\n\u001b[1;32m    775\u001b[0m                   }})\n\u001b[0;32m--> 776\u001b[0;31m                   return config\"\"\"))\n\u001b[0m\u001b[1;32m    777\u001b[0m \u001b[0;34m\u001b[0m\u001b[0m\n\u001b[1;32m    778\u001b[0m     \u001b[0;32mreturn\u001b[0m \u001b[0mconfig\u001b[0m\u001b[0;34m\u001b[0m\u001b[0;34m\u001b[0m\u001b[0m\n",
            "\u001b[0;31mNotImplementedError\u001b[0m: \nLayer PositionalEmbedding has arguments ['self', 'sequence_length', 'output_dim']\nin `__init__` and therefore must override `get_config()`.\n\nExample:\n\nclass CustomLayer(keras.layers.Layer):\n    def __init__(self, arg1, arg2):\n        super().__init__()\n        self.arg1 = arg1\n        self.arg2 = arg2\n\n    def get_config(self):\n        config = super().get_config()\n        config.update({\n            \"arg1\": self.arg1,\n            \"arg2\": self.arg2,\n        })\n        return config"
          ]
        }
      ]
    },
    {
      "cell_type": "code",
      "source": [
        "    x=keras.applications.densenet.preprocess_input(inputs)\n",
        "    # inc=InceptionV3(include_top=False, pooling='avg',input_shape=(frameSize[0],frameSize[1],3))\n",
        "    inc=keras.applications.DenseNet121(weights=\"imagenet\",include_top=False,  pooling=\"max\",input_shape=(frameSize[0],frameSize[1],3))\n",
        "    # inc=tf.keras.applications.ResNet152V2(include_top=False, pooling='avg',input_shape=(frameSize[0],frameSize[1],3))\n",
        "    # inc=tf.keras.applications.DenseNet121(include_top=False, pooling='avg',input_shape=(frameSize[0],frameSize[1],3))\n",
        "    # inc.fc=layers.Dense(embedDim,activation=tf.nn.gelu)#is this line the issue?\n",
        "    for layer in inc.layers:\n",
        "      layer.trainable=False\n",
        "    x=layers.TimeDistributed(inc)(x)#out is 3D"
      ],
      "metadata": {
        "id": "-lg4IblTW3GF"
      },
      "id": "-lg4IblTW3GF",
      "execution_count": null,
      "outputs": []
    },
    {
      "cell_type": "code",
      "source": [
        "def denseModel(seqLen=seq_len,embedDim=2048,numHeads=8,frameSize=(img_height,img_width),dense_dim = 4,dense_dim2=8):\n",
        "  \n",
        "  inputs = keras.Input(shape=(seq_len,img_height,img_width,3))\n",
        "  x=keras.applications.densenet.preprocess_input(inputs)\n",
        "  # inc=InceptionV3(include_top=False, pooling='avg',input_shape=(frameSize[0],frameSize[1],3))\n",
        "  inc=keras.applications.DenseNet121(weights=\"imagenet\",include_top=False,  pooling=\"max\",input_shape=(img_height,img_width,3))\n",
        "  # inc=tf.keras.applications.ResNet152V2(include_top=False, pooling='avg',input_shape=(frameSize[0],frameSize[1],3))\n",
        "  # inc=tf.keras.applications.DenseNet121(include_top=False, pooling='avg',input_shape=(frameSize[0],frameSize[1],3))\n",
        "  # inc.fc=layers.Dense(embedDim,activation=tf.nn.gelu)#is this line the issue?\n",
        "  for layer in inc.layers:\n",
        "    layer.trainable=False\n",
        "  x=layers.TimeDistributed(inc)(x)#out is 3D\n",
        "  x = PositionalEmbedding(seq_len,np.shape(x)[-1], name=\"frame_position_embedding\")(x)\n",
        "\n",
        "  x = TransformerEncoder(np.shape(x)[-1], dense_dim, num_heads, name=\"transformer_layer\")(x)\n",
        "  x = layers.GlobalMaxPooling1D()(x)\n",
        "  x = layers.Dropout(0.5)(x)\n",
        "  outputs = layers.Dense(2, activation=\"softmax\")(x)\n",
        "  model = keras.Model(inputs, outputs)\n",
        "  return model"
      ],
      "metadata": {
        "id": "IJe-Y3uCXRsA"
      },
      "id": "IJe-Y3uCXRsA",
      "execution_count": null,
      "outputs": []
    },
    {
      "cell_type": "code",
      "source": [
        "model = denseModel(seqLen=seq_len,embedDim=embed_dim,numHeads=numHeads,frameSize=frameSize,dense_dim = dense_dim,dense_dim2=dense_dim2)\n",
        "\n",
        "\n",
        "# Compile the model with the optimizer, loss function\n",
        "# and the metrics.\n",
        "optimizer = keras.optimizers.Adam(learning_rate=LEARNING_RATE)\n",
        "model.compile(\n",
        "optimizer=optimizer,\n",
        "loss=\"categorical_crossentropy\",\n",
        "metrics=[\"accuracy\"\n",
        "\n",
        "],\n",
        ")\n",
        "\n",
        "# Train the model.\n",
        "history = model.fit(x = X_train, y = y_train, epochs=epochs, batch_size = 8 , shuffle=True, validation_split=0.1, callbacks=callbacks)\n"
      ],
      "metadata": {
        "colab": {
          "base_uri": "https://localhost:8080/"
        },
        "id": "yx0Z3a4kXxlx",
        "outputId": "13e35768-2612-49de-93a2-4aa21748bd00"
      },
      "id": "yx0Z3a4kXxlx",
      "execution_count": null,
      "outputs": [
        {
          "output_type": "stream",
          "name": "stdout",
          "text": [
            "Epoch 1/50\n",
            "30/30 [==============================] - 15s 229ms/step - loss: 1.0110 - accuracy: 0.5726 - val_loss: 0.9973 - val_accuracy: 0.4444\n",
            "Epoch 2/50\n",
            "30/30 [==============================] - 4s 132ms/step - loss: 0.9631 - accuracy: 0.5684 - val_loss: 0.6416 - val_accuracy: 0.7037\n",
            "Epoch 3/50\n",
            "30/30 [==============================] - 4s 131ms/step - loss: 0.9825 - accuracy: 0.5427 - val_loss: 0.9095 - val_accuracy: 0.4444\n",
            "Epoch 4/50\n",
            "30/30 [==============================] - 4s 132ms/step - loss: 0.9340 - accuracy: 0.5385 - val_loss: 0.6293 - val_accuracy: 0.7407\n",
            "Epoch 5/50\n",
            "30/30 [==============================] - 4s 132ms/step - loss: 0.9216 - accuracy: 0.5342 - val_loss: 0.6410 - val_accuracy: 0.6296\n",
            "Epoch 6/50\n",
            "30/30 [==============================] - 4s 133ms/step - loss: 0.8203 - accuracy: 0.5684 - val_loss: 0.6441 - val_accuracy: 0.5926\n",
            "Epoch 7/50\n",
            "30/30 [==============================] - 4s 141ms/step - loss: 0.7925 - accuracy: 0.6154 - val_loss: 0.5934 - val_accuracy: 0.8148\n",
            "Epoch 8/50\n",
            "30/30 [==============================] - 4s 132ms/step - loss: 0.7981 - accuracy: 0.5983 - val_loss: 0.7171 - val_accuracy: 0.4074\n",
            "Epoch 9/50\n",
            "30/30 [==============================] - 4s 133ms/step - loss: 0.7085 - accuracy: 0.6496 - val_loss: 0.5457 - val_accuracy: 0.8519\n",
            "Epoch 10/50\n",
            "30/30 [==============================] - 4s 134ms/step - loss: 0.6916 - accuracy: 0.6624 - val_loss: 0.6633 - val_accuracy: 0.5185\n",
            "Epoch 11/50\n",
            "30/30 [==============================] - 4s 133ms/step - loss: 0.6735 - accuracy: 0.6410 - val_loss: 0.5406 - val_accuracy: 0.7037\n",
            "Epoch 12/50\n",
            "30/30 [==============================] - 4s 139ms/step - loss: 0.5863 - accuracy: 0.7051 - val_loss: 0.5336 - val_accuracy: 0.6667\n",
            "Epoch 13/50\n",
            "30/30 [==============================] - 4s 142ms/step - loss: 0.6322 - accuracy: 0.6709 - val_loss: 0.4728 - val_accuracy: 0.7778\n",
            "Epoch 14/50\n",
            "30/30 [==============================] - 4s 134ms/step - loss: 0.4860 - accuracy: 0.7778 - val_loss: 0.5194 - val_accuracy: 0.6667\n",
            "Epoch 15/50\n",
            "30/30 [==============================] - 4s 134ms/step - loss: 0.4597 - accuracy: 0.7778 - val_loss: 0.4491 - val_accuracy: 0.7778\n",
            "Epoch 16/50\n",
            "30/30 [==============================] - 4s 135ms/step - loss: 0.4531 - accuracy: 0.8034 - val_loss: 0.5274 - val_accuracy: 0.7037\n",
            "Epoch 17/50\n",
            "30/30 [==============================] - 4s 135ms/step - loss: 0.4165 - accuracy: 0.7991 - val_loss: 0.5904 - val_accuracy: 0.7407\n",
            "Epoch 18/50\n",
            "30/30 [==============================] - 4s 134ms/step - loss: 0.3914 - accuracy: 0.8333 - val_loss: 0.4873 - val_accuracy: 0.6667\n",
            "Epoch 19/50\n",
            "30/30 [==============================] - 4s 135ms/step - loss: 0.4539 - accuracy: 0.8034 - val_loss: 0.5274 - val_accuracy: 0.8519\n",
            "Epoch 20/50\n",
            "30/30 [==============================] - 4s 134ms/step - loss: 0.3648 - accuracy: 0.8675 - val_loss: 0.4414 - val_accuracy: 0.7778\n",
            "Epoch 21/50\n",
            "30/30 [==============================] - 4s 136ms/step - loss: 0.4014 - accuracy: 0.8291 - val_loss: 0.5926 - val_accuracy: 0.7407\n",
            "Epoch 22/50\n",
            "30/30 [==============================] - 4s 136ms/step - loss: 0.3452 - accuracy: 0.8632 - val_loss: 0.4168 - val_accuracy: 0.7778\n",
            "Epoch 23/50\n",
            "30/30 [==============================] - 4s 136ms/step - loss: 0.3275 - accuracy: 0.8590 - val_loss: 0.6269 - val_accuracy: 0.7037\n",
            "Epoch 24/50\n",
            "30/30 [==============================] - 4s 144ms/step - loss: 0.2779 - accuracy: 0.8675 - val_loss: 0.5073 - val_accuracy: 0.8148\n",
            "Epoch 25/50\n",
            "30/30 [==============================] - 4s 144ms/step - loss: 0.2655 - accuracy: 0.8889 - val_loss: 0.4564 - val_accuracy: 0.8519\n",
            "Epoch 26/50\n",
            "30/30 [==============================] - 4s 137ms/step - loss: 0.2790 - accuracy: 0.8932 - val_loss: 0.4504 - val_accuracy: 0.8148\n",
            "Epoch 27/50\n",
            "30/30 [==============================] - 4s 136ms/step - loss: 0.2250 - accuracy: 0.8974 - val_loss: 0.4426 - val_accuracy: 0.8148\n",
            "Epoch 28/50\n",
            "30/30 [==============================] - 4s 137ms/step - loss: 0.3767 - accuracy: 0.8419 - val_loss: 0.4080 - val_accuracy: 0.7778\n",
            "Epoch 29/50\n",
            "30/30 [==============================] - 4s 137ms/step - loss: 0.2738 - accuracy: 0.9060 - val_loss: 0.8670 - val_accuracy: 0.7037\n",
            "Epoch 30/50\n",
            "30/30 [==============================] - 4s 137ms/step - loss: 0.2440 - accuracy: 0.8803 - val_loss: 0.3944 - val_accuracy: 0.7778\n",
            "Epoch 31/50\n",
            "30/30 [==============================] - 4s 145ms/step - loss: 0.1633 - accuracy: 0.9359 - val_loss: 0.7038 - val_accuracy: 0.7407\n",
            "Epoch 32/50\n",
            "30/30 [==============================] - 4s 136ms/step - loss: 0.2384 - accuracy: 0.9017 - val_loss: 0.3480 - val_accuracy: 0.8519\n",
            "Epoch 33/50\n",
            "30/30 [==============================] - 4s 137ms/step - loss: 0.2126 - accuracy: 0.9103 - val_loss: 0.3198 - val_accuracy: 0.7778\n",
            "Epoch 34/50\n",
            "30/30 [==============================] - 4s 136ms/step - loss: 0.2410 - accuracy: 0.8974 - val_loss: 0.3399 - val_accuracy: 0.8519\n",
            "Epoch 35/50\n",
            "30/30 [==============================] - 4s 138ms/step - loss: 0.1727 - accuracy: 0.9274 - val_loss: 0.4808 - val_accuracy: 0.7778\n",
            "Epoch 36/50\n",
            "30/30 [==============================] - 4s 138ms/step - loss: 0.1369 - accuracy: 0.9487 - val_loss: 0.3158 - val_accuracy: 0.9259\n",
            "Epoch 37/50\n",
            "30/30 [==============================] - 4s 138ms/step - loss: 0.1858 - accuracy: 0.9274 - val_loss: 0.4949 - val_accuracy: 0.7778\n",
            "Epoch 38/50\n",
            "30/30 [==============================] - 4s 148ms/step - loss: 0.1462 - accuracy: 0.9402 - val_loss: 0.4685 - val_accuracy: 0.8148\n",
            "Epoch 39/50\n",
            "30/30 [==============================] - 4s 138ms/step - loss: 0.2410 - accuracy: 0.9145 - val_loss: 0.6375 - val_accuracy: 0.7778\n",
            "Epoch 40/50\n",
            "30/30 [==============================] - 4s 144ms/step - loss: 0.1309 - accuracy: 0.9530 - val_loss: 0.8756 - val_accuracy: 0.7407\n",
            "Epoch 41/50\n",
            "30/30 [==============================] - 4s 137ms/step - loss: 0.1164 - accuracy: 0.9615 - val_loss: 0.3646 - val_accuracy: 0.8148\n",
            "Epoch 42/50\n",
            "30/30 [==============================] - 4s 138ms/step - loss: 0.1288 - accuracy: 0.9530 - val_loss: 0.3884 - val_accuracy: 0.8519\n",
            "Epoch 43/50\n",
            "30/30 [==============================] - 4s 137ms/step - loss: 0.1018 - accuracy: 0.9615 - val_loss: 0.5549 - val_accuracy: 0.8148\n"
          ]
        }
      ]
    },
    {
      "cell_type": "code",
      "source": [
        "transformer_score2= model.evaluate(X_test,y_test, batch_size=8, verbose=2)"
      ],
      "metadata": {
        "colab": {
          "base_uri": "https://localhost:8080/",
          "height": 710
        },
        "id": "w7_JlI5TYu78",
        "outputId": "bdc54782-0e4d-4e05-88cd-e50d576c540b"
      },
      "id": "w7_JlI5TYu78",
      "execution_count": null,
      "outputs": [
        {
          "output_type": "error",
          "ename": "ValueError",
          "evalue": "ignored",
          "traceback": [
            "\u001b[0;31m---------------------------------------------------------------------------\u001b[0m",
            "\u001b[0;31mValueError\u001b[0m                                Traceback (most recent call last)",
            "\u001b[0;32m<ipython-input-37-dcd7c98f7b83>\u001b[0m in \u001b[0;36m<module>\u001b[0;34m()\u001b[0m\n\u001b[0;32m----> 1\u001b[0;31m \u001b[0mtransformer_score2\u001b[0m\u001b[0;34m=\u001b[0m \u001b[0mmodel\u001b[0m\u001b[0;34m.\u001b[0m\u001b[0mevaluate\u001b[0m\u001b[0;34m(\u001b[0m\u001b[0mX_test\u001b[0m\u001b[0;34m,\u001b[0m\u001b[0my_test\u001b[0m\u001b[0;34m,\u001b[0m \u001b[0mbatch_size\u001b[0m\u001b[0;34m=\u001b[0m\u001b[0;36m8\u001b[0m\u001b[0;34m,\u001b[0m \u001b[0mverbose\u001b[0m\u001b[0;34m=\u001b[0m\u001b[0;36m2\u001b[0m\u001b[0;34m)\u001b[0m\u001b[0;34m\u001b[0m\u001b[0;34m\u001b[0m\u001b[0m\n\u001b[0m",
            "\u001b[0;32m/usr/local/lib/python3.7/dist-packages/keras/utils/traceback_utils.py\u001b[0m in \u001b[0;36merror_handler\u001b[0;34m(*args, **kwargs)\u001b[0m\n\u001b[1;32m     65\u001b[0m     \u001b[0;32mexcept\u001b[0m \u001b[0mException\u001b[0m \u001b[0;32mas\u001b[0m \u001b[0me\u001b[0m\u001b[0;34m:\u001b[0m  \u001b[0;31m# pylint: disable=broad-except\u001b[0m\u001b[0;34m\u001b[0m\u001b[0;34m\u001b[0m\u001b[0m\n\u001b[1;32m     66\u001b[0m       \u001b[0mfiltered_tb\u001b[0m \u001b[0;34m=\u001b[0m \u001b[0m_process_traceback_frames\u001b[0m\u001b[0;34m(\u001b[0m\u001b[0me\u001b[0m\u001b[0;34m.\u001b[0m\u001b[0m__traceback__\u001b[0m\u001b[0;34m)\u001b[0m\u001b[0;34m\u001b[0m\u001b[0;34m\u001b[0m\u001b[0m\n\u001b[0;32m---> 67\u001b[0;31m       \u001b[0;32mraise\u001b[0m \u001b[0me\u001b[0m\u001b[0;34m.\u001b[0m\u001b[0mwith_traceback\u001b[0m\u001b[0;34m(\u001b[0m\u001b[0mfiltered_tb\u001b[0m\u001b[0;34m)\u001b[0m \u001b[0;32mfrom\u001b[0m \u001b[0;32mNone\u001b[0m\u001b[0;34m\u001b[0m\u001b[0;34m\u001b[0m\u001b[0m\n\u001b[0m\u001b[1;32m     68\u001b[0m     \u001b[0;32mfinally\u001b[0m\u001b[0;34m:\u001b[0m\u001b[0;34m\u001b[0m\u001b[0;34m\u001b[0m\u001b[0m\n\u001b[1;32m     69\u001b[0m       \u001b[0;32mdel\u001b[0m \u001b[0mfiltered_tb\u001b[0m\u001b[0;34m\u001b[0m\u001b[0;34m\u001b[0m\u001b[0m\n",
            "\u001b[0;32m/usr/local/lib/python3.7/dist-packages/tensorflow/python/framework/func_graph.py\u001b[0m in \u001b[0;36mautograph_handler\u001b[0;34m(*args, **kwargs)\u001b[0m\n\u001b[1;32m   1145\u001b[0m           \u001b[0;32mexcept\u001b[0m \u001b[0mException\u001b[0m \u001b[0;32mas\u001b[0m \u001b[0me\u001b[0m\u001b[0;34m:\u001b[0m  \u001b[0;31m# pylint:disable=broad-except\u001b[0m\u001b[0;34m\u001b[0m\u001b[0;34m\u001b[0m\u001b[0m\n\u001b[1;32m   1146\u001b[0m             \u001b[0;32mif\u001b[0m \u001b[0mhasattr\u001b[0m\u001b[0;34m(\u001b[0m\u001b[0me\u001b[0m\u001b[0;34m,\u001b[0m \u001b[0;34m\"ag_error_metadata\"\u001b[0m\u001b[0;34m)\u001b[0m\u001b[0;34m:\u001b[0m\u001b[0;34m\u001b[0m\u001b[0;34m\u001b[0m\u001b[0m\n\u001b[0;32m-> 1147\u001b[0;31m               \u001b[0;32mraise\u001b[0m \u001b[0me\u001b[0m\u001b[0;34m.\u001b[0m\u001b[0mag_error_metadata\u001b[0m\u001b[0;34m.\u001b[0m\u001b[0mto_exception\u001b[0m\u001b[0;34m(\u001b[0m\u001b[0me\u001b[0m\u001b[0;34m)\u001b[0m\u001b[0;34m\u001b[0m\u001b[0;34m\u001b[0m\u001b[0m\n\u001b[0m\u001b[1;32m   1148\u001b[0m             \u001b[0;32melse\u001b[0m\u001b[0;34m:\u001b[0m\u001b[0;34m\u001b[0m\u001b[0;34m\u001b[0m\u001b[0m\n\u001b[1;32m   1149\u001b[0m               \u001b[0;32mraise\u001b[0m\u001b[0;34m\u001b[0m\u001b[0;34m\u001b[0m\u001b[0m\n",
            "\u001b[0;31mValueError\u001b[0m: in user code:\n\n    File \"/usr/local/lib/python3.7/dist-packages/keras/engine/training.py\", line 1525, in test_function  *\n        return step_function(self, iterator)\n    File \"/usr/local/lib/python3.7/dist-packages/keras/engine/training.py\", line 1514, in step_function  **\n        outputs = model.distribute_strategy.run(run_step, args=(data,))\n    File \"/usr/local/lib/python3.7/dist-packages/keras/engine/training.py\", line 1507, in run_step  **\n        outputs = model.test_step(data)\n    File \"/usr/local/lib/python3.7/dist-packages/keras/engine/training.py\", line 1473, in test_step\n        self.compute_loss(x, y, y_pred, sample_weight)\n    File \"/usr/local/lib/python3.7/dist-packages/keras/engine/training.py\", line 919, in compute_loss\n        y, y_pred, sample_weight, regularization_losses=self.losses)\n    File \"/usr/local/lib/python3.7/dist-packages/keras/engine/compile_utils.py\", line 201, in __call__\n        loss_value = loss_obj(y_t, y_p, sample_weight=sw)\n    File \"/usr/local/lib/python3.7/dist-packages/keras/losses.py\", line 141, in __call__\n        losses = call_fn(y_true, y_pred)\n    File \"/usr/local/lib/python3.7/dist-packages/keras/losses.py\", line 245, in call  **\n        return ag_fn(y_true, y_pred, **self._fn_kwargs)\n    File \"/usr/local/lib/python3.7/dist-packages/keras/losses.py\", line 1790, in categorical_crossentropy\n        y_true, y_pred, from_logits=from_logits, axis=axis)\n    File \"/usr/local/lib/python3.7/dist-packages/keras/backend.py\", line 5083, in categorical_crossentropy\n        target.shape.assert_is_compatible_with(output.shape)\n\n    ValueError: Shapes (None, 1) and (None, 2) are incompatible\n"
          ]
        }
      ]
    },
    {
      "cell_type": "code",
      "source": [
        "plt.plot(history.history['accuracy'])\n",
        "plt.plot(history.history['val_accuracy'])\n",
        "plt.title('model accuracy')\n",
        "plt.ylabel('accuracy')\n",
        "plt.xlabel('epoch')\n",
        "plt.legend(['train', 'val'], loc='upper left')\n",
        "plt.show()"
      ],
      "metadata": {
        "colab": {
          "base_uri": "https://localhost:8080/",
          "height": 295
        },
        "id": "M2OdQthnbSxq",
        "outputId": "450f4ea0-95c0-46c1-b6f0-bb3d4343dc26"
      },
      "id": "M2OdQthnbSxq",
      "execution_count": null,
      "outputs": [
        {
          "output_type": "display_data",
          "data": {
            "text/plain": [
              "<Figure size 432x288 with 1 Axes>"
            ],
            "image/png": "[encoded data removed]"
          },
          "metadata": {
            "needs_background": "light"
          }
        }
      ]
    },
    {
      "cell_type": "code",
      "source": [
        "plt.plot(history.history['loss'])\n",
        "plt.plot(history.history['val_loss'])\n",
        "plt.title('model loss')\n",
        "plt.ylabel('loss')\n",
        "plt.xlabel('epoch')\n",
        "plt.legend(['train', 'val'], loc='upper left')\n",
        "plt.show()"
      ],
      "metadata": {
        "colab": {
          "base_uri": "https://localhost:8080/",
          "height": 295
        },
        "id": "klsT2ouhbafj",
        "outputId": "20a9a0fb-b988-4a2f-912c-e13870ab889a"
      },
      "id": "klsT2ouhbafj",
      "execution_count": null,
      "outputs": [
        {
          "output_type": "display_data",
          "data": {
            "text/plain": [
              "<Figure size 432x288 with 1 Axes>"
            ],
            "image/png": "[encoded data removed]"
          },
          "metadata": {
            "needs_background": "light"
          }
        }
      ]
    }
  ]
}