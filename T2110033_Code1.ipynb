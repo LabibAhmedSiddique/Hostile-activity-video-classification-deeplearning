{
  "nbformat": 4,
  "nbformat_minor": 5,
  "metadata": {
    "accelerator": "GPU",
    "colab": {
      "name": "improvemnets.ipynb",
      "provenance": [],
      "collapsed_sections": []
    },
    "kernelspec": {
      "display_name": "Python 3",
      "language": "python",
      "name": "python3"
    },
    "language_info": {
      "codemirror_mode": {
        "name": "ipython",
        "version": 3
      },
      "file_extension": ".py",
      "mimetype": "text/x-python",
      "name": "python",
      "nbconvert_exporter": "python",
      "pygments_lexer": "ipython3",
      "version": "3.8.10"
    },
    "varInspector": {
      "cols": {
        "lenName": 16,
        "lenType": 16,
        "lenVar": 40
      },
      "kernels_config": {
        "python": {
          "delete_cmd_postfix": "",
          "delete_cmd_prefix": "del ",
          "library": "var_list.py",
          "varRefreshCmd": "print(var_dic_list())"
        },
        "r": {
          "delete_cmd_postfix": ") ",
          "delete_cmd_prefix": "rm(",
          "library": "var_list.r",
          "varRefreshCmd": "cat(var_dic_list()) "
        }
      },
      "types_to_exclude": [
        "module",
        "function",
        "builtin_function_or_method",
        "instance",
        "_Feature"
      ],
      "window_display": false
    }
  },
  "cells": [
    {
      "cell_type": "markdown",
      "metadata": {
        "id": "zTLfeYJBcQW3"
      },
      "source": [
        "# drive mount\n",
        "\n"
      ],
      "id": "zTLfeYJBcQW3"
    },
    {
      "cell_type": "code",
      "metadata": {
        "colab": {
          "base_uri": "https://localhost:8080/"
        },
        "id": "CW_354lASqa5",
        "outputId": "98a655f3-4258-40d7-e6ca-7e3d9de48167"
      },
      "source": [
        "from google.colab import drive\n",
        "drive.mount('/content/drive')"
      ],
      "id": "CW_354lASqa5",
      "execution_count": null,
      "outputs": [
        {
          "output_type": "stream",
          "name": "stdout",
          "text": [
            "Mounted at /content/drive\n"
          ]
        }
      ]
    },
    {
      "cell_type": "code",
      "metadata": {
        "colab": {
          "base_uri": "https://localhost:8080/"
        },
        "id": "HZRCoPXySjdq",
        "outputId": "b0313de9-aebc-4167-e484-39a58b9490a3"
      },
      "source": [
        "#these lines are to unzip a file and save em to my drive\n",
        "!pip install pyunpack\n",
        "!pip install patool\n",
        "from pyunpack import Archive\n",
        "Archive('/content/drive/MyDrive/A-Dataset-for-Automatic-Violence-Detection-in-Videos-master.rar').extractall('/content/drive/MyDrive')"
      ],
      "id": "HZRCoPXySjdq",
      "execution_count": null,
      "outputs": [
        {
          "output_type": "stream",
          "text": [
            "Collecting pyunpack\n",
            "  Downloading pyunpack-0.2.2-py2.py3-none-any.whl (3.8 kB)\n",
            "Collecting entrypoint2\n",
            "  Downloading entrypoint2-0.2.4-py3-none-any.whl (6.2 kB)\n",
            "Collecting easyprocess\n",
            "  Downloading EasyProcess-0.3-py2.py3-none-any.whl (7.9 kB)\n",
            "Installing collected packages: entrypoint2, easyprocess, pyunpack\n",
            "Successfully installed easyprocess-0.3 entrypoint2-0.2.4 pyunpack-0.2.2\n",
            "Collecting patool\n",
            "  Downloading patool-1.12-py2.py3-none-any.whl (77 kB)\n",
            "\u001b[K     |████████████████████████████████| 77 kB 6.8 MB/s \n",
            "\u001b[?25hInstalling collected packages: patool\n",
            "Successfully installed patool-1.12\n"
          ],
          "name": "stdout"
        }
      ]
    },
    {
      "cell_type": "code",
      "metadata": {
        "colab": {
          "base_uri": "https://localhost:8080/"
        },
        "id": "7mQZz_CyTNqM",
        "outputId": "e6d01fae-6355-4d3a-bf6a-c026dc49a808"
      },
      "source": [
        "#I do quite often have internet issues and I just wanted to make sure my dataset was fully loaded \n",
        "! du -sh /content/drive/MyDrive/A-Dataset-for-Automatic-Violence-Detection-in-Videos-master*"
      ],
      "id": "7mQZz_CyTNqM",
      "execution_count": null,
      "outputs": [
        {
          "output_type": "stream",
          "text": [
            "867M\t/content/drive/MyDrive/A-Dataset-for-Automatic-Violence-Detection-in-Videos-master\n",
            "867M\t/content/drive/MyDrive/A-Dataset-for-Automatic-Violence-Detection-in-Videos-master.rar\n"
          ],
          "name": "stdout"
        }
      ]
    },
    {
      "cell_type": "markdown",
      "metadata": {
        "id": "B-1i3k8EcaLY"
      },
      "source": [
        "# import\n"
      ],
      "id": "B-1i3k8EcaLY"
    },
    {
      "cell_type": "code",
      "metadata": {
        "id": "cc7456f3"
      },
      "source": [
        "#just my usual imports that i essentialy do for all my projects, dont need all of em but hey i'm lazy to comment em out \n",
        "import tensorflow as tf \n",
        "import numpy as np \n",
        "from tensorflow import keras\n",
        "import os \n",
        "import random \n",
        "import cv2\n",
        "\n",
        "\n",
        "import numpy as np\n",
        "from sklearn.model_selection import train_test_split\n",
        "from sklearn.metrics import classification_report\n",
        "from tensorflow.keras import applications\n",
        "from tensorflow.keras.preprocessing.image import ImageDataGenerator\n",
        "from tensorflow.keras import optimizers\n",
        "from tensorflow.keras.models import Sequential, Model \n",
        "from tensorflow.keras.layers import *\n",
        "from tensorflow.keras.callbacks import ModelCheckpoint, LearningRateScheduler, TensorBoard, EarlyStopping \n",
        "from sklearn.metrics import accuracy_score\n",
        "from tensorflow.keras import optimizers\n",
        "from tensorflow.keras.optimizers import Adam\n",
        "from sklearn.metrics import precision_score\n",
        "from sklearn.metrics import recall_score\n",
        "from sklearn.metrics import f1_score\n",
        "from sklearn.metrics import cohen_kappa_score\n",
        "from sklearn.metrics import roc_auc_score\n",
        "from sklearn.metrics import multilabel_confusion_matrix\n",
        "from sklearn.model_selection import train_test_split \n",
        "from tensorflow.keras.utils import plot_model \n",
        "from sklearn.metrics import accuracy_score\n",
        "from sklearn.metrics import precision_score\n",
        "from sklearn.metrics import recall_score\n",
        "from sklearn.metrics import f1_score\n",
        "from sklearn.metrics import cohen_kappa_score\n",
        "from sklearn.metrics import roc_auc_score\n",
        "from sklearn.metrics import multilabel_confusion_matrix\n",
        "from sklearn.metrics import classification_report\n",
        "from tensorflow.keras.layers.experimental import preprocessing\n",
        "from tensorflow.keras.models import Sequential\n",
        "from tensorflow.keras.layers import Dense, TimeDistributed,Dropout, Activation, Flatten,Conv2D, MaxPooling2D,LSTM,Bidirectional\n",
        "from tensorflow.keras import optimizers\n",
        "from tensorflow.keras.optimizers import Adam\n",
        "from keras.models import Sequential\n",
        "from keras.layers.core import Dense, Dropout, Flatten\n",
        "from keras.layers.convolutional import Conv3D, MaxPooling3D, ZeroPadding3D\n",
        "\n",
        "from keras.layers import Input\n",
        "from keras.models import Model\n"
      ],
      "id": "cc7456f3",
      "execution_count": null,
      "outputs": []
    },
    {
      "cell_type": "markdown",
      "metadata": {
        "id": "dsUb67I2ce0w"
      },
      "source": [
        "# preprocess\n"
      ],
      "id": "dsUb67I2ce0w"
    },
    {
      "cell_type": "code",
      "metadata": {
        "id": "cd5400cc"
      },
      "source": [
        "data_dir = r\"/content/drive/MyDrive/A-Dataset-for-Automatic-Violence-Detection-in-Videos-master\"\n",
        "img_height , img_width = 90, 90\n",
        "seq_len = 25\n",
        " "
      ],
      "id": "cd5400cc",
      "execution_count": null,
      "outputs": []
    },
    {
      "cell_type": "code",
      "metadata": {
        "id": "e9c6f81d"
      },
      "source": [
        "classes = [\"non-violent\",\"violent\"]\n"
      ],
      "id": "e9c6f81d",
      "execution_count": null,
      "outputs": []
    },
    {
      "cell_type": "code",
      "metadata": {
        "id": "85fa7c07"
      },
      "source": [
        "#  Creating frames from videos\n",
        "\n",
        "def frames_extraction(video_path):\n",
        "    frames_list = []\n",
        "     \n",
        "    vidObj = cv2.VideoCapture(video_path)\n",
        "    # Used as counter variable \n",
        "    count = 1\n",
        " \n",
        "    while count <= seq_len: \n",
        "         \n",
        "        success, image = vidObj.read() \n",
        "        if success:\n",
        "            image = cv2.resize(image, (img_height, img_width))\n",
        "            frames_list.append(image)\n",
        "            count += 1\n",
        "        else:\n",
        "            print(\"Defected frame\")\n",
        "            break\n",
        " \n",
        "            \n",
        "    return frames_list"
      ],
      "id": "85fa7c07",
      "execution_count": null,
      "outputs": []
    },
    {
      "cell_type": "code",
      "metadata": {
        "colab": {
          "base_uri": "https://localhost:8080/"
        },
        "id": "b78d358d",
        "outputId": "8427aba1-1d49-4c38-a2c1-03e70cb43b39"
      },
      "source": [
        "#usual dataset creations that we've known and loved from sentdex's tutorial\n",
        "def create_data(input_dir):\n",
        "    X = []\n",
        "    Y = []\n",
        "     \n",
        "    classes_list = os.listdir(input_dir)\n",
        "     \n",
        "    for c in classes_list:\n",
        "        print(c)\n",
        "        files_list = os.listdir(os.path.join(input_dir, c))\n",
        "        for f in files_list:\n",
        "           frames = frames_extraction(os.path.join(os.path.join(input_dir, c), f))\n",
        "           if len(frames) == seq_len:\n",
        "                \n",
        "                X.append(frames)\n",
        "             \n",
        "                y = [0]*len(classes)\n",
        "                y[classes.index(c)] = 1\n",
        "                Y.append(y)\n",
        "     \n",
        "    X = np.asarray(X)\n",
        "    Y = np.asarray(Y)\n",
        "    return X, Y\n",
        "X, Y = create_data(data_dir)"
      ],
      "id": "b78d358d",
      "execution_count": null,
      "outputs": [
        {
          "output_type": "stream",
          "text": [
            "non-violent\n",
            "violent\n"
          ],
          "name": "stdout"
        }
      ]
    },
    {
      "cell_type": "code",
      "metadata": {
        "id": "8284a725"
      },
      "source": [
        "\n",
        "X = X.astype(\"float32\") / 255.0"
      ],
      "id": "8284a725",
      "execution_count": null,
      "outputs": []
    },
    {
      "cell_type": "code",
      "metadata": {
        "colab": {
          "base_uri": "https://localhost:8080/"
        },
        "id": "a4b27568",
        "outputId": "b754d40e-e433-42ab-e7e3-e36474a558b3"
      },
      "source": [
        "X.shape\n",
        "#Y.shape"
      ],
      "id": "a4b27568",
      "execution_count": null,
      "outputs": [
        {
          "output_type": "execute_result",
          "data": {
            "text/plain": [
              "(291, 25, 90, 90, 3)"
            ]
          },
          "metadata": {},
          "execution_count": 6
        }
      ]
    },
    {
      "cell_type": "code",
      "metadata": {
        "id": "JZjOtPFVmddT"
      },
      "source": [
        "np.save('/content/drive/MyDrive/saved numpy/violance_X',X)\n",
        "np.save('/content/drive/MyDrive/saved numpy/violance_Y',Y)"
      ],
      "id": "JZjOtPFVmddT",
      "execution_count": null,
      "outputs": []
    },
    {
      "cell_type": "code",
      "metadata": {
        "id": "Jn8dHNZRnCu4"
      },
      "source": [
        "X= np.load('/content/drive/MyDrive/428/violance_X.npy')\n",
        "Y=np.load('/content/drive/MyDrive/428/violance_Y.npy')"
      ],
      "id": "Jn8dHNZRnCu4",
      "execution_count": null,
      "outputs": []
    },
    {
      "cell_type": "code",
      "metadata": {
        "id": "dDyJRw3qcpvL"
      },
      "source": [
        "np.random.seed(1337)"
      ],
      "id": "dDyJRw3qcpvL",
      "execution_count": null,
      "outputs": []
    },
    {
      "cell_type": "markdown",
      "metadata": {
        "id": "-Jg_bZZfHD6X"
      },
      "source": [
        "# convlstm2d"
      ],
      "id": "-Jg_bZZfHD6X"
    },
    {
      "cell_type": "code",
      "metadata": {
        "id": "5de1bf7f"
      },
      "source": [
        "model = Sequential()\n",
        "model.add(ConvLSTM2D(filters = 32, kernel_size = (3, 3), return_sequences = False, padding='same', input_shape = (seq_len, img_height, img_width, 3)))\n",
        "model.add(Dropout(0.2))\n",
        "model.add(Flatten())\n",
        "model.add(Dense(64, activation=\"relu\"))\n",
        "model.add(Dropout(0.3))\n",
        "model.add(Dense(2, activation = \"softmax\"))"
      ],
      "id": "5de1bf7f",
      "execution_count": null,
      "outputs": []
    },
    {
      "cell_type": "code",
      "metadata": {
        "colab": {
          "base_uri": "https://localhost:8080/"
        },
        "id": "H8CwZemTN84_",
        "outputId": "cc8fcd80-046b-4ffd-96bb-4cdac57c3cd8"
      },
      "source": [
        "model.summary()"
      ],
      "id": "H8CwZemTN84_",
      "execution_count": null,
      "outputs": [
        {
          "output_type": "stream",
          "name": "stdout",
          "text": [
            "Model: \"sequential\"\n",
            "_________________________________________________________________\n",
            "Layer (type)                 Output Shape              Param #   \n",
            "=================================================================\n",
            "conv_lst_m2d (ConvLSTM2D)    (None, 100, 100, 32)      40448     \n",
            "_________________________________________________________________\n",
            "dropout (Dropout)            (None, 100, 100, 32)      0         \n",
            "_________________________________________________________________\n",
            "flatten (Flatten)            (None, 320000)            0         \n",
            "_________________________________________________________________\n",
            "dense (Dense)                (None, 64)                20480064  \n",
            "_________________________________________________________________\n",
            "dropout_1 (Dropout)          (None, 64)                0         \n",
            "_________________________________________________________________\n",
            "dense_1 (Dense)              (None, 2)                 130       \n",
            "=================================================================\n",
            "Total params: 20,520,642\n",
            "Trainable params: 20,520,642\n",
            "Non-trainable params: 0\n",
            "_________________________________________________________________\n"
          ]
        }
      ]
    },
    {
      "cell_type": "code",
      "metadata": {
        "colab": {
          "base_uri": "https://localhost:8080/",
          "height": 754
        },
        "id": "6EjaJhZUhtXS",
        "outputId": "8da6c834-f1b6-4cd9-9f64-871bbbf203ff"
      },
      "source": [
        "plot_model(model, to_file = 'model_structure_plot.png', show_shapes = True, show_layer_names = True)"
      ],
      "id": "6EjaJhZUhtXS",
      "execution_count": null,
      "outputs": [
        {
          "output_type": "execute_result",
          "data": {
            "image/png": "[encoded data removed]",
            "text/plain": [
              "<IPython.core.display.Image object>"
            ]
          },
          "metadata": {},
          "execution_count": 7
        }
      ]
    },
    {
      "cell_type": "code",
      "metadata": {
        "id": "e6233063"
      },
      "source": [
        "X_train, X_test, y_train, y_test = train_test_split(X, Y, test_size=0.10, shuffle=True, random_state=0)"
      ],
      "id": "e6233063",
      "execution_count": null,
      "outputs": []
    },
    {
      "cell_type": "code",
      "metadata": {
        "id": "oO0jgb7pZO6J"
      },
      "source": [
        "epochs=25"
      ],
      "id": "oO0jgb7pZO6J",
      "execution_count": null,
      "outputs": []
    },
    {
      "cell_type": "code",
      "metadata": {
        "id": "c709aa3c"
      },
      "source": [
        "opt =\"Adam\"\n",
        "model.compile(loss='categorical_crossentropy', optimizer=opt, metrics=[\"accuracy\"])"
      ],
      "id": "c709aa3c",
      "execution_count": null,
      "outputs": []
    },
    {
      "cell_type": "code",
      "metadata": {
        "id": "8a18a9f6"
      },
      "source": [
        "earlystop = EarlyStopping(patience=4)\n",
        "callbacks = [earlystop]"
      ],
      "id": "8a18a9f6",
      "execution_count": null,
      "outputs": []
    },
    {
      "cell_type": "code",
      "metadata": {
        "id": "1044729e",
        "colab": {
          "base_uri": "https://localhost:8080/"
        },
        "outputId": "65201a76-8f4f-4d5b-c30b-3eb4d8fd338f"
      },
      "source": [
        "history = model.fit(x = X_train, y = y_train, epochs=epochs, batch_size = 5 , shuffle=True, validation_split=0.10, callbacks=callbacks)"
      ],
      "id": "1044729e",
      "execution_count": null,
      "outputs": [
        {
          "output_type": "stream",
          "name": "stdout",
          "text": [
            "Epoch 1/25\n",
            "47/47 [==============================] - 128s 2s/step - loss: 2.2353 - accuracy: 0.6581 - val_loss: 0.4478 - val_accuracy: 0.8519\n",
            "Epoch 2/25\n",
            "47/47 [==============================] - 97s 2s/step - loss: 0.4416 - accuracy: 0.8077 - val_loss: 0.3625 - val_accuracy: 0.8148\n",
            "Epoch 3/25\n",
            "47/47 [==============================] - 96s 2s/step - loss: 0.3586 - accuracy: 0.8462 - val_loss: 0.3641 - val_accuracy: 0.8889\n",
            "Epoch 4/25\n",
            "47/47 [==============================] - 97s 2s/step - loss: 0.3004 - accuracy: 0.8632 - val_loss: 0.2903 - val_accuracy: 0.9259\n",
            "Epoch 5/25\n",
            "47/47 [==============================] - 97s 2s/step - loss: 0.3361 - accuracy: 0.8504 - val_loss: 0.3017 - val_accuracy: 0.8889\n",
            "Epoch 6/25\n",
            "47/47 [==============================] - 97s 2s/step - loss: 0.2633 - accuracy: 0.8974 - val_loss: 0.3154 - val_accuracy: 0.8889\n",
            "Epoch 7/25\n",
            "47/47 [==============================] - 96s 2s/step - loss: 0.2158 - accuracy: 0.8932 - val_loss: 0.4131 - val_accuracy: 0.8889\n",
            "Epoch 8/25\n",
            "47/47 [==============================] - 97s 2s/step - loss: 0.2122 - accuracy: 0.8889 - val_loss: 0.3534 - val_accuracy: 0.8889\n"
          ]
        }
      ]
    },
    {
      "cell_type": "code",
      "metadata": {
        "colab": {
          "base_uri": "https://localhost:8080/"
        },
        "id": "927ae6b4",
        "outputId": "4e382680-84b9-4f5f-d462-73b4b71f0dd8"
      },
      "source": [
        "convlstm2d_score= model.evaluate(X_test,y_test, batch_size=5, verbose=2)"
      ],
      "id": "927ae6b4",
      "execution_count": null,
      "outputs": [
        {
          "output_type": "stream",
          "name": "stdout",
          "text": [
            "6/6 - 4s - loss: 0.6543 - accuracy: 0.7000\n"
          ]
        }
      ]
    },
    {
      "cell_type": "code",
      "metadata": {
        "id": "SEU_5N35fElU"
      },
      "source": [
        "y_pred = model.predict(X_test,batch_size=5)"
      ],
      "id": "SEU_5N35fElU",
      "execution_count": null,
      "outputs": []
    },
    {
      "cell_type": "code",
      "metadata": {
        "id": "VE2vc608gUqo"
      },
      "source": [
        "\n",
        "y_pred = np.argmax(y_pred, axis = 1)\n",
        "y_test = np.argmax(y_test, axis = 1)"
      ],
      "id": "VE2vc608gUqo",
      "execution_count": null,
      "outputs": []
    },
    {
      "cell_type": "code",
      "metadata": {
        "id": "ojgV7Eygg4fj"
      },
      "source": [
        ""
      ],
      "id": "ojgV7Eygg4fj",
      "execution_count": null,
      "outputs": []
    },
    {
      "cell_type": "code",
      "metadata": {
        "colab": {
          "base_uri": "https://localhost:8080/"
        },
        "id": "Z1vwVWmagZaF",
        "outputId": "c2a2a71f-f919-4061-c193-9c62aaaa39a3"
      },
      "source": [
        "\n",
        "print(classification_report(y_test, y_pred))\n"
      ],
      "id": "Z1vwVWmagZaF",
      "execution_count": null,
      "outputs": [
        {
          "output_type": "stream",
          "name": "stdout",
          "text": [
            "              precision    recall  f1-score   support\n",
            "\n",
            "           0       0.71      0.62      0.67         8\n",
            "           1       0.87      0.91      0.89        22\n",
            "\n",
            "    accuracy                           0.83        30\n",
            "   macro avg       0.79      0.77      0.78        30\n",
            "weighted avg       0.83      0.83      0.83        30\n",
            "\n"
          ]
        }
      ]
    },
    {
      "cell_type": "code",
      "metadata": {
        "id": "AWXJmqeViizl"
      },
      "source": [
        "def plot_metric(metric_name_1, metric_name_2, plot_name):\n",
        "  # Get Metric values using metric names as identifiers\n",
        "  metric_value_1 = model_training_history.history[metric_name_1]\n",
        "  metric_value_2 = model_training_history.history[metric_name_2]\n",
        "\n",
        "  # Constructing a range object which will be used as time \n",
        "  epochs = range(len(metric_value_1))\n",
        "  \n",
        "  # Plotting the Graph\n",
        "  plt.plot(epochs, metric_value_1, 'blue', label = metric_name_1)\n",
        "  plt.plot(epochs, metric_value_2, 'red', label = metric_name_2)\n",
        "  \n",
        "  # Adding title to the plot\n",
        "  plt.title(str(plot_name))\n",
        "\n",
        "  # Adding legend to the plot\n",
        "  plt.legend()"
      ],
      "id": "AWXJmqeViizl",
      "execution_count": null,
      "outputs": []
    },
    {
      "cell_type": "code",
      "metadata": {
        "id": "6g9cQNSsjjVw"
      },
      "source": [
        "history_loss, history_accuracy = convlstm2d_score"
      ],
      "id": "6g9cQNSsjjVw",
      "execution_count": null,
      "outputs": []
    },
    {
      "cell_type": "code",
      "metadata": {
        "id": "k8ig1NQFk6u7"
      },
      "source": [
        "def plot_metric(metric_name_1, metric_name_2, plot_name):\n",
        "  # Get Metric values using metric names as identifiers\n",
        "  metric_value_1 = history.history[metric_name_1]\n",
        "  metric_value_2 = history.history[metric_name_2]\n",
        "\n",
        "  # Constructing a range object which will be used as time \n",
        "  epochs = range(len(metric_value_1))\n",
        "  \n",
        "  # Plotting the Graph\n",
        "  plt.plot(epochs, metric_value_1, 'blue', label = metric_name_1)\n",
        "  plt.plot(epochs, metric_value_2, 'red', label = metric_name_2)\n",
        "  \n",
        "  # Adding title to the plot\n",
        "  plt.title(str(plot_name))\n",
        "\n",
        "  # Adding legend to the plot\n",
        "  plt.legend()"
      ],
      "id": "k8ig1NQFk6u7",
      "execution_count": null,
      "outputs": []
    },
    {
      "cell_type": "code",
      "metadata": {
        "id": "CGFnQgd5TNg5"
      },
      "source": [
        "import matplotlib.pyplot as plt\n"
      ],
      "id": "CGFnQgd5TNg5",
      "execution_count": null,
      "outputs": []
    },
    {
      "cell_type": "code",
      "metadata": {
        "colab": {
          "base_uri": "https://localhost:8080/",
          "height": 281
        },
        "id": "RIJOCpFMimt9",
        "outputId": "0c709158-61b8-4419-cbae-5f98682e4efc"
      },
      "source": [
        "plot_metric('loss', 'val_loss', 'Total Loss vs Total Validation Loss')"
      ],
      "id": "RIJOCpFMimt9",
      "execution_count": null,
      "outputs": [
        {
          "output_type": "display_data",
          "data": {
            "image/png": "[encoded data removed]",
            "text/plain": [
              "<Figure size 432x288 with 1 Axes>"
            ]
          },
          "metadata": {
            "needs_background": "light"
          }
        }
      ]
    },
    {
      "cell_type": "markdown",
      "metadata": {
        "id": "UY0XH47enizL"
      },
      "source": [
        "# CNN_LSTM(LRCN)"
      ],
      "id": "UY0XH47enizL"
    },
    {
      "cell_type": "code",
      "metadata": {
        "id": "RSYGHHN7p9lx"
      },
      "source": [
        ""
      ],
      "id": "RSYGHHN7p9lx",
      "execution_count": null,
      "outputs": []
    },
    {
      "cell_type": "code",
      "metadata": {
        "id": "wmPZQTXnnoHO"
      },
      "source": [
        "def build_convnet(shape=(90, 90, 3)):\n",
        "    \n",
        "    cnn = Sequential()\n",
        "    cnn.add(Conv2D(128, (3, 3), activation='relu', padding='same'))\n",
        "    \n",
        "    cnn.add(Conv2D(256, (3, 3), activation='relu'))\n",
        "    cnn.add(MaxPooling2D((2, 2)))\n",
        "    cnn.add(Conv2D(64, (3, 3), activation='relu'))\n",
        "    cnn.add(MaxPooling2D((2, 2)))\n",
        "    cnn.add(Conv2D(64, (3, 3), activation='relu'))\n",
        "    cnn.add(MaxPooling2D((2, 2)))\n",
        "    #converting to 1-d tensor\n",
        "    cnn.add(Flatten())\n",
        "      \n",
        "\n",
        "\n",
        "    return cnn"
      ],
      "id": "wmPZQTXnnoHO",
      "execution_count": null,
      "outputs": []
    },
    {
      "cell_type": "code",
      "metadata": {
        "id": "Q-cwA2pe3u65"
      },
      "source": [
        ""
      ],
      "id": "Q-cwA2pe3u65",
      "execution_count": null,
      "outputs": []
    },
    {
      "cell_type": "code",
      "metadata": {
        "id": "QjcPtWXfourM"
      },
      "source": [
        "def convnet_lstm_model(shape=(25, 90, 90, 3), nbout=2):\n",
        "    convnet = build_convnet(shape[1:])\n",
        "    model = Sequential()\n",
        "    model.add(TimeDistributed(convnet, input_shape=shape))\n",
        "    model.add(Bidirectional(LSTM(32)))\n",
        "    model.add(Dense(64, activation='relu'))\n",
        "    model.add(Dense(32, activation='relu'))\n",
        "\n",
        "    model.add(Dense(nbout, activation='softmax'))\n",
        "    return model"
      ],
      "id": "QjcPtWXfourM",
      "execution_count": null,
      "outputs": []
    },
    {
      "cell_type": "code",
      "metadata": {
        "id": "ktB1KNPTo_j-"
      },
      "source": [
        "SIZE = (90,90)\n",
        "seq_len = 25\n",
        "CHANNELS = 3\n",
        "INSHAPE=(seq_len,) + SIZE+ (CHANNELS,)"
      ],
      "id": "ktB1KNPTo_j-",
      "execution_count": null,
      "outputs": []
    },
    {
      "cell_type": "code",
      "metadata": {
        "id": "fRQdWiTEo-wG",
        "colab": {
          "base_uri": "https://localhost:8080/"
        },
        "outputId": "af554c64-c699-40f6-b358-37567e8fcfe8"
      },
      "source": [
        "model_convnet = convnet_lstm_model(INSHAPE)\n",
        "model_convnet.summary()"
      ],
      "id": "fRQdWiTEo-wG",
      "execution_count": null,
      "outputs": [
        {
          "output_type": "stream",
          "name": "stdout",
          "text": [
            "Model: \"sequential_1\"\n",
            "_________________________________________________________________\n",
            " Layer (type)                Output Shape              Param #   \n",
            "=================================================================\n",
            " time_distributed (TimeDistr  (None, 25, 5184)         483200    \n",
            " ibuted)                                                         \n",
            "                                                                 \n",
            " bidirectional (Bidirectiona  (None, 64)               1335552   \n",
            " l)                                                              \n",
            "                                                                 \n",
            " dense (Dense)               (None, 64)                4160      \n",
            "                                                                 \n",
            " dense_1 (Dense)             (None, 32)                2080      \n",
            "                                                                 \n",
            " dense_2 (Dense)             (None, 2)                 66        \n",
            "                                                                 \n",
            "=================================================================\n",
            "Total params: 1,825,058\n",
            "Trainable params: 1,825,058\n",
            "Non-trainable params: 0\n",
            "_________________________________________________________________\n"
          ]
        }
      ]
    },
    {
      "cell_type": "code",
      "metadata": {
        "colab": {
          "base_uri": "https://localhost:8080/",
          "height": 1000
        },
        "id": "taVuP6igqFIR",
        "outputId": "31372ab2-0b5b-42ef-f4a1-688f5bb6b5b0"
      },
      "source": [
        "plot_model(model_convnet,show_shapes=True,expand_nested=True)"
      ],
      "id": "taVuP6igqFIR",
      "execution_count": null,
      "outputs": [
        {
          "output_type": "execute_result",
          "data": {
            "text/plain": [
              "<IPython.core.display.Image object>"
            ],
            "image/png": "[encoded data removed]"
          },
          "metadata": {},
          "execution_count": 35
        }
      ]
    },
    {
      "cell_type": "code",
      "metadata": {
        "id": "rQJLgVBRqHiW"
      },
      "source": [
        "X_train, X_test, y_train, y_test = train_test_split(X, Y, test_size=0.1, shuffle=True, random_state=0)"
      ],
      "id": "rQJLgVBRqHiW",
      "execution_count": null,
      "outputs": []
    },
    {
      "cell_type": "markdown",
      "metadata": {
        "id": "uXMCp9FDUVtn"
      },
      "source": [
        ""
      ],
      "id": "uXMCp9FDUVtn"
    },
    {
      "cell_type": "code",
      "metadata": {
        "id": "0DtDwG1JqRtQ"
      },
      "source": [
        "epochs=50"
      ],
      "id": "0DtDwG1JqRtQ",
      "execution_count": null,
      "outputs": []
    },
    {
      "cell_type": "code",
      "metadata": {
        "id": "FljwFRMhrpRF"
      },
      "source": [
        ""
      ],
      "id": "FljwFRMhrpRF",
      "execution_count": null,
      "outputs": []
    },
    {
      "cell_type": "code",
      "metadata": {
        "id": "p0k0oVk8qci3",
        "colab": {
          "base_uri": "https://localhost:8080/"
        },
        "outputId": "09b5a6cf-27a2-47ac-bc0a-5cff4e108c6b"
      },
      "source": [
        "epochs=50\n",
        "opt = keras.optimizers.SGD(lr=0.001 ,momentum = 0.9, decay = 1e-4/epochs)\n",
        "model_convnet.compile(loss='categorical_crossentropy', optimizer=opt, metrics=[\"accuracy\"])\n",
        "earlystop = EarlyStopping(patience=7)\n",
        "callbacks = [earlystop]"
      ],
      "id": "p0k0oVk8qci3",
      "execution_count": null,
      "outputs": [
        {
          "output_type": "stream",
          "name": "stderr",
          "text": [
            "/usr/local/lib/python3.7/dist-packages/keras/optimizer_v2/gradient_descent.py:102: UserWarning: The `lr` argument is deprecated, use `learning_rate` instead.\n",
            "  super(SGD, self).__init__(name, **kwargs)\n"
          ]
        }
      ]
    },
    {
      "cell_type": "code",
      "metadata": {
        "colab": {
          "base_uri": "https://localhost:8080/"
        },
        "id": "ExbxBV5Uql3t",
        "outputId": "e9af135f-b12d-4164-8e06-8ed89ee80ffb"
      },
      "source": [
        "\n",
        "history = model_convnet.fit(x = X_train, y = y_train, epochs=epochs, batch_size = 8 , shuffle=True, validation_split=0.1,callbacks=callbacks)\n"
      ],
      "id": "ExbxBV5Uql3t",
      "execution_count": null,
      "outputs": [
        {
          "output_type": "stream",
          "name": "stdout",
          "text": [
            "Epoch 1/50\n",
            "30/30 [==============================] - 41s 746ms/step - loss: 0.6822 - accuracy: 0.6154 - val_loss: 0.7276 - val_accuracy: 0.4444\n",
            "Epoch 2/50\n",
            "30/30 [==============================] - 19s 622ms/step - loss: 0.6645 - accuracy: 0.6154 - val_loss: 0.7428 - val_accuracy: 0.4444\n",
            "Epoch 3/50\n",
            "30/30 [==============================] - 19s 631ms/step - loss: 0.6626 - accuracy: 0.6154 - val_loss: 0.7433 - val_accuracy: 0.4444\n",
            "Epoch 4/50\n",
            "30/30 [==============================] - 19s 638ms/step - loss: 0.6565 - accuracy: 0.6154 - val_loss: 0.7415 - val_accuracy: 0.4444\n",
            "Epoch 5/50\n",
            "30/30 [==============================] - 19s 647ms/step - loss: 0.6500 - accuracy: 0.6154 - val_loss: 0.7158 - val_accuracy: 0.4444\n",
            "Epoch 6/50\n",
            "30/30 [==============================] - 20s 651ms/step - loss: 0.6412 - accuracy: 0.6154 - val_loss: 0.7655 - val_accuracy: 0.4444\n",
            "Epoch 7/50\n",
            "30/30 [==============================] - 19s 644ms/step - loss: 0.6459 - accuracy: 0.6538 - val_loss: 0.6880 - val_accuracy: 0.4815\n",
            "Epoch 8/50\n",
            "30/30 [==============================] - 19s 643ms/step - loss: 0.6319 - accuracy: 0.6197 - val_loss: 0.6976 - val_accuracy: 0.4815\n",
            "Epoch 9/50\n",
            "30/30 [==============================] - 19s 645ms/step - loss: 0.6204 - accuracy: 0.6709 - val_loss: 0.6754 - val_accuracy: 0.5556\n",
            "Epoch 10/50\n",
            "30/30 [==============================] - 19s 646ms/step - loss: 0.5866 - accuracy: 0.7393 - val_loss: 0.6762 - val_accuracy: 0.5556\n",
            "Epoch 11/50\n",
            "30/30 [==============================] - 19s 646ms/step - loss: 0.5575 - accuracy: 0.7650 - val_loss: 0.7235 - val_accuracy: 0.5185\n",
            "Epoch 12/50\n",
            "30/30 [==============================] - 19s 647ms/step - loss: 0.5031 - accuracy: 0.7906 - val_loss: 0.6466 - val_accuracy: 0.6667\n",
            "Epoch 13/50\n",
            "30/30 [==============================] - 19s 647ms/step - loss: 0.6007 - accuracy: 0.6453 - val_loss: 0.6652 - val_accuracy: 0.6296\n",
            "Epoch 14/50\n",
            "30/30 [==============================] - 19s 647ms/step - loss: 0.5618 - accuracy: 0.7051 - val_loss: 0.7142 - val_accuracy: 0.5185\n",
            "Epoch 15/50\n",
            "30/30 [==============================] - 19s 647ms/step - loss: 0.4982 - accuracy: 0.7863 - val_loss: 0.6796 - val_accuracy: 0.6667\n",
            "Epoch 16/50\n",
            "30/30 [==============================] - 19s 648ms/step - loss: 0.4339 - accuracy: 0.8205 - val_loss: 0.7637 - val_accuracy: 0.6667\n",
            "Epoch 17/50\n",
            "30/30 [==============================] - 19s 648ms/step - loss: 0.4372 - accuracy: 0.8291 - val_loss: 0.6541 - val_accuracy: 0.6667\n",
            "Epoch 18/50\n",
            "30/30 [==============================] - 19s 647ms/step - loss: 0.3992 - accuracy: 0.8419 - val_loss: 0.7196 - val_accuracy: 0.7037\n",
            "Epoch 19/50\n",
            "30/30 [==============================] - 19s 649ms/step - loss: 0.3278 - accuracy: 0.8889 - val_loss: 0.6666 - val_accuracy: 0.7037\n"
          ]
        }
      ]
    },
    {
      "cell_type": "code",
      "metadata": {
        "colab": {
          "base_uri": "https://localhost:8080/"
        },
        "id": "Z6dqJUKPquzl",
        "outputId": "718f7e37-4897-4a2e-e72b-2e082432a00c"
      },
      "source": [
        "convnet_score= model_convnet.evaluate(X_test,y_test, batch_size=8, verbose=2)"
      ],
      "id": "Z6dqJUKPquzl",
      "execution_count": null,
      "outputs": [
        {
          "output_type": "stream",
          "name": "stdout",
          "text": [
            "4/4 - 3s - loss: 0.6866 - accuracy: 0.7333 - 3s/epoch - 706ms/step\n"
          ]
        }
      ]
    },
    {
      "cell_type": "code",
      "metadata": {
        "colab": {
          "base_uri": "https://localhost:8080/"
        },
        "id": "lxnZG2WysVrA",
        "outputId": "c6075f21-9774-404e-ad90-526b272ebf01"
      },
      "source": [
        "from sklearn.metrics import classification_report\n",
        "import matplotlib.pyplot as plt\n",
        "\n",
        "y_pred = model_convnet.predict(X_test, batch_size=8)\n",
        "\n",
        "y_pred = np.argmax(y_pred, axis = 1)\n",
        "y_test = np.argmax(y_test, axis = 1)\n",
        "print(classification_report(y_test, y_pred))\n"
      ],
      "id": "lxnZG2WysVrA",
      "execution_count": null,
      "outputs": [
        {
          "output_type": "stream",
          "name": "stdout",
          "text": [
            "              precision    recall  f1-score   support\n",
            "\n",
            "           0       0.86      0.80      0.83        15\n",
            "           1       0.81      0.87      0.84        15\n",
            "\n",
            "    accuracy                           0.83        30\n",
            "   macro avg       0.83      0.83      0.83        30\n",
            "weighted avg       0.83      0.83      0.83        30\n",
            "\n"
          ]
        }
      ]
    },
    {
      "cell_type": "code",
      "metadata": {
        "id": "URCJ_-MosVLp"
      },
      "source": [
        "def plot_metric(metric_name_1, metric_name_2, plot_name):\n",
        "  # Get Metric values using metric names as identifiers\n",
        "  metric_value_1 = model_training_history.history[metric_name_1]\n",
        "  metric_value_2 = model_training_history.history[metric_name_2]\n",
        "\n",
        "  # Constructing a range object which will be used as time \n",
        "  epochs = range(len(metric_value_1))\n",
        "  \n",
        "  # Plotting the Graph\n",
        "  plt.plot(epochs, metric_value_1, 'blue', label = metric_name_1)\n",
        "  plt.plot(epochs, metric_value_2, 'red', label = metric_name_2)\n",
        "  \n",
        "  # Adding title to the plot\n",
        "  plt.title(str(plot_name))\n",
        "\n",
        "  # Adding legend to the plot\n",
        "  plt.legend()\n",
        "\n"
      ],
      "id": "URCJ_-MosVLp",
      "execution_count": null,
      "outputs": []
    },
    {
      "cell_type": "code",
      "metadata": {
        "id": "uLbYQr-MukY6"
      },
      "source": [
        "  history_loss, history_accuracy =convnet_score"
      ],
      "id": "uLbYQr-MukY6",
      "execution_count": null,
      "outputs": []
    },
    {
      "cell_type": "code",
      "source": [
        "import matplotlib.pyplot as plt\n"
      ],
      "metadata": {
        "id": "i8W35mGKiF4I"
      },
      "id": "i8W35mGKiF4I",
      "execution_count": null,
      "outputs": []
    },
    {
      "cell_type": "code",
      "metadata": {
        "id": "QlbOHrBVuIBX"
      },
      "source": [
        "def plot_metric(metric_name_1, metric_name_2, plot_name):\n",
        "  # Get Metric values using metric names as identifiers\n",
        "  metric_value_1 = history.history[metric_name_1]\n",
        "  \n",
        "  metric_value_2 = history.history[metric_name_2]\n",
        "\n",
        "  # Constructing a range object which will be used as time \n",
        "  epochs = range(len(metric_value_1))\n",
        "  \n",
        "  # Plotting the Graph\n",
        "  plt.plot(epochs, metric_value_1, 'blue', label = metric_name_1)\n",
        "  plt.plot(epochs, metric_value_2, 'red', label = metric_name_2)\n",
        "  \n",
        "  # Adding title to the plot\n",
        "  plt.title(str(plot_name))\n",
        "\n",
        "  # Adding legend to the plot\n",
        "  plt.legend()"
      ],
      "id": "QlbOHrBVuIBX",
      "execution_count": null,
      "outputs": []
    },
    {
      "cell_type": "code",
      "metadata": {
        "colab": {
          "base_uri": "https://localhost:8080/",
          "height": 281
        },
        "id": "7Q9Gjm4quQw4",
        "outputId": "d420fbfe-1761-4766-908a-ac8343cf7168"
      },
      "source": [
        "plot_metric('loss', 'val_loss', 'Total Loss vs Total Validation Loss')"
      ],
      "id": "7Q9Gjm4quQw4",
      "execution_count": null,
      "outputs": [
        {
          "output_type": "display_data",
          "data": {
            "text/plain": [
              "<Figure size 432x288 with 1 Axes>"
            ],
            "image/png": "[encoded data removed]"
          },
          "metadata": {
            "needs_background": "light"
          }
        }
      ]
    },
    {
      "cell_type": "code",
      "source": [
        "plt.plot(history.history['accuracy'])\n",
        "plt.plot(history.history['val_accuracy'])\n",
        "plt.title('model accuracy')\n",
        "plt.ylabel('accuracy')\n",
        "plt.xlabel('epoch')\n",
        "plt.legend(['train', 'val'], loc='upper left')\n",
        "plt.show()"
      ],
      "metadata": {
        "colab": {
          "base_uri": "https://localhost:8080/",
          "height": 295
        },
        "id": "pZnwXBVorK7a",
        "outputId": "f2e1b310-db0a-438e-dcb1-a50ba6b02f8e"
      },
      "id": "pZnwXBVorK7a",
      "execution_count": null,
      "outputs": [
        {
          "output_type": "display_data",
          "data": {
            "text/plain": [
              "<Figure size 432x288 with 1 Axes>"
            ],
            "image/png": "[encoded data removed]"
          },
          "metadata": {
            "needs_background": "light"
          }
        }
      ]
    },
    {
      "cell_type": "code",
      "source": [
        "from sklearn.metrics import confusion_matrix\n",
        "import seaborn as sns\n",
        "matrix_confusion = confusion_matrix(y_test, y_pred)\n",
        "sns.heatmap(matrix_confusion, square=True, annot=True, cmap='Blues', fmt='d', cbar=False)"
      ],
      "metadata": {
        "colab": {
          "base_uri": "https://localhost:8080/",
          "height": 284
        },
        "id": "Cs4hE_TurVei",
        "outputId": "f91be5e8-d834-49c0-b66f-f4dc70ac075d"
      },
      "id": "Cs4hE_TurVei",
      "execution_count": null,
      "outputs": [
        {
          "output_type": "execute_result",
          "data": {
            "text/plain": [
              "<matplotlib.axes._subplots.AxesSubplot at 0x7f1fef9ce390>"
            ]
          },
          "metadata": {},
          "execution_count": 50
        },
        {
          "output_type": "display_data",
          "data": {
            "text/plain": [
              "<Figure size 432x288 with 1 Axes>"
            ],
            "image/png": "[encoded data removed]"
          },
          "metadata": {
            "needs_background": "light"
          }
        }
      ]
    },
    {
      "cell_type": "code",
      "source": [
        "import pandas as pd\n",
        "y_true=y_test\n",
        "con_mat = tf.math.confusion_matrix(labels=y_true, predictions=y_pred).numpy()\n",
        "con_mat_norm = np.around(con_mat.astype('float') / con_mat.sum(axis=1)[:, np.newaxis], decimals=2)\n",
        "\n",
        "con_mat_df = pd.DataFrame(con_mat_norm,\n",
        "                     index = classes, \n",
        "                     columns = classes)\n",
        "\n",
        "figure = plt.figure(figsize=(8, 8))\n",
        "sns.heatmap(con_mat_df, annot=True,cmap=plt.cm.Blues)\n",
        "plt.tight_layout()\n",
        "plt.ylabel('True label')\n",
        "plt.xlabel('Predicted label')\n",
        "plt.show()"
      ],
      "metadata": {
        "colab": {
          "base_uri": "https://localhost:8080/",
          "height": 599
        },
        "id": "rJI6ehRDrWkx",
        "outputId": "328d0950-47ef-4c26-e146-0e21402d71de"
      },
      "id": "rJI6ehRDrWkx",
      "execution_count": null,
      "outputs": [
        {
          "output_type": "display_data",
          "data": {
            "text/plain": [
              "<Figure size 576x576 with 2 Axes>"
            ],
            "image/png": "[encoded data removed]"
          },
          "metadata": {
            "needs_background": "light"
          }
        }
      ]
    },
    {
      "cell_type": "code",
      "source": [
        "model_convnet.save(\"/content/drive/MyDrive/saved model/convnet.h5\")"
      ],
      "metadata": {
        "id": "O7xqlraIrsaC"
      },
      "id": "O7xqlraIrsaC",
      "execution_count": null,
      "outputs": []
    },
    {
      "cell_type": "markdown",
      "metadata": {
        "id": "7JN8clPbc2Vc"
      },
      "source": [
        "# VGG16-lstm\n"
      ],
      "id": "7JN8clPbc2Vc"
    },
    {
      "cell_type": "code",
      "metadata": {
        "id": "yKamCMxw3kWo"
      },
      "source": [
        "from keras.applications.vgg16 import VGG16\n",
        "from keras.models import Model\n",
        "from keras.layers import Dense, Input\n",
        "from keras.layers.pooling import GlobalAveragePooling2D\n",
        "from keras.layers.recurrent import LSTM\n",
        "from keras.layers import  TimeDistributed\n",
        "from keras.layers.wrappers import TimeDistributed\n",
        "#from keras.optimizers import Nadam\n",
        "\n",
        "#from tensorflow.keras.layers import Dense, TimeDistributed,Dropout, Activation, Flatten,Conv2D, MaxPooling2D,LSTM,Bidirectional"
      ],
      "id": "yKamCMxw3kWo",
      "execution_count": null,
      "outputs": []
    },
    {
      "cell_type": "code",
      "metadata": {
        "id": "fZKmx5jNttj6"
      },
      "source": [
        "video = Input(shape=(seq_len,img_height,img_width,CHANNELS))\n",
        "                     \n",
        "cnn_base = VGG16(input_shape=(img_height,img_width,CHANNELS),weights=\"imagenet\",include_top=False)\n",
        "                 \n",
        "cnn_out = GlobalAveragePooling2D()(cnn_base.output)\n",
        "\n",
        "cnn = Model(inputs=cnn_base.input, outputs=cnn_out)\n",
        "\n",
        "\n",
        "cnn.trainable = False\n",
        "\n",
        "encoded_frames = TimeDistributed(cnn)(video)\n",
        "encoded_sequence = LSTM(256)(encoded_frames)\n",
        "hidden_layer = Dense(256, activation=\"relu\")(encoded_sequence)\n",
        "outputs = Dense(2, activation=\"softmax\")(hidden_layer)\n",
        "model = Model([video], outputs)"
      ],
      "id": "fZKmx5jNttj6",
      "execution_count": null,
      "outputs": []
    },
    {
      "cell_type": "code",
      "metadata": {
        "id": "EA0XOMC7l4wu"
      },
      "source": [
        ""
      ],
      "id": "EA0XOMC7l4wu",
      "execution_count": null,
      "outputs": []
    },
    {
      "cell_type": "code",
      "metadata": {
        "id": "BYeI5xG8qnJn",
        "colab": {
          "base_uri": "https://localhost:8080/"
        },
        "outputId": "e60a4414-7305-4bea-b2ad-497b0797ca37"
      },
      "source": [
        "epochs=50\n",
        "opt = keras.optimizers.SGD(lr=0.001 ,momentum = 0.9, decay = 1e-4/epochs)\n",
        "#model_convnet.compile(loss='categorical_crossentropy', optimizer=opt, metrics=[\"accuracy\"])\n",
        "earlystop = EarlyStopping(patience=7)\n",
        "callbacks = [earlystop]"
      ],
      "id": "BYeI5xG8qnJn",
      "execution_count": null,
      "outputs": [
        {
          "output_type": "stream",
          "name": "stderr",
          "text": [
            "/usr/local/lib/python3.7/dist-packages/keras/optimizer_v2/gradient_descent.py:102: UserWarning: The `lr` argument is deprecated, use `learning_rate` instead.\n",
            "  super(SGD, self).__init__(name, **kwargs)\n"
          ]
        }
      ]
    },
    {
      "cell_type": "code",
      "metadata": {
        "id": "2yl_WmcuETuk"
      },
      "source": [
        "model.compile(loss='categorical_crossentropy', optimizer=opt, metrics=[\"accuracy\"])"
      ],
      "id": "2yl_WmcuETuk",
      "execution_count": null,
      "outputs": []
    },
    {
      "cell_type": "code",
      "metadata": {
        "id": "QVUAJZMFweJg"
      },
      "source": [
        "X_train, X_test, y_train, y_test = train_test_split(X, Y, test_size=0.1, shuffle=True, random_state=0)"
      ],
      "id": "QVUAJZMFweJg",
      "execution_count": null,
      "outputs": []
    },
    {
      "cell_type": "code",
      "metadata": {
        "colab": {
          "base_uri": "https://localhost:8080/"
        },
        "id": "zIIBTVfuD9ki",
        "outputId": "217c7faf-5a09-4a17-eb8f-590dfd8cb75b"
      },
      "source": [
        "history = model.fit(x = X_train, y = y_train, epochs=epochs, batch_size = 8 , shuffle=True, validation_split=0.1,callbacks=callbacks)"
      ],
      "id": "zIIBTVfuD9ki",
      "execution_count": null,
      "outputs": [
        {
          "output_type": "stream",
          "name": "stdout",
          "text": [
            "Epoch 1/50\n",
            "30/30 [==============================] - 17s 464ms/step - loss: 0.6713 - accuracy: 0.5897 - val_loss: 0.6558 - val_accuracy: 0.8148\n",
            "Epoch 2/50\n",
            "30/30 [==============================] - 13s 441ms/step - loss: 0.6297 - accuracy: 0.6239 - val_loss: 0.6466 - val_accuracy: 0.5185\n",
            "Epoch 3/50\n",
            "30/30 [==============================] - 13s 444ms/step - loss: 0.6024 - accuracy: 0.6880 - val_loss: 0.6391 - val_accuracy: 0.5185\n",
            "Epoch 4/50\n",
            "30/30 [==============================] - 14s 455ms/step - loss: 0.5586 - accuracy: 0.7436 - val_loss: 0.6181 - val_accuracy: 0.5926\n",
            "Epoch 5/50\n",
            "30/30 [==============================] - 13s 445ms/step - loss: 0.5387 - accuracy: 0.7863 - val_loss: 0.6163 - val_accuracy: 0.6296\n",
            "Epoch 6/50\n",
            "30/30 [==============================] - 13s 441ms/step - loss: 0.5030 - accuracy: 0.7863 - val_loss: 0.5221 - val_accuracy: 0.7407\n",
            "Epoch 7/50\n",
            "30/30 [==============================] - 13s 442ms/step - loss: 0.6052 - accuracy: 0.6239 - val_loss: 0.5944 - val_accuracy: 0.6296\n",
            "Epoch 8/50\n",
            "30/30 [==============================] - 13s 447ms/step - loss: 0.4376 - accuracy: 0.8291 - val_loss: 0.5362 - val_accuracy: 0.8148\n",
            "Epoch 9/50\n",
            "30/30 [==============================] - 13s 445ms/step - loss: 0.4070 - accuracy: 0.8291 - val_loss: 0.4539 - val_accuracy: 0.7778\n",
            "Epoch 10/50\n",
            "30/30 [==============================] - 13s 442ms/step - loss: 0.3370 - accuracy: 0.8590 - val_loss: 0.4604 - val_accuracy: 0.8148\n",
            "Epoch 11/50\n",
            "30/30 [==============================] - 13s 442ms/step - loss: 0.3562 - accuracy: 0.8547 - val_loss: 0.4106 - val_accuracy: 0.8148\n",
            "Epoch 12/50\n",
            "30/30 [==============================] - 13s 450ms/step - loss: 0.4099 - accuracy: 0.8034 - val_loss: 0.4593 - val_accuracy: 0.8148\n",
            "Epoch 13/50\n",
            "30/30 [==============================] - 13s 439ms/step - loss: 0.5728 - accuracy: 0.7094 - val_loss: 0.5083 - val_accuracy: 0.7778\n",
            "Epoch 14/50\n",
            "30/30 [==============================] - 13s 443ms/step - loss: 0.4234 - accuracy: 0.8632 - val_loss: 0.6279 - val_accuracy: 0.7037\n",
            "Epoch 15/50\n",
            "30/30 [==============================] - 13s 442ms/step - loss: 0.4003 - accuracy: 0.8248 - val_loss: 0.4399 - val_accuracy: 0.8148\n",
            "Epoch 16/50\n",
            "30/30 [==============================] - 13s 441ms/step - loss: 0.3716 - accuracy: 0.8462 - val_loss: 0.4298 - val_accuracy: 0.8148\n",
            "Epoch 17/50\n",
            "30/30 [==============================] - 13s 444ms/step - loss: 0.4170 - accuracy: 0.8205 - val_loss: 0.4110 - val_accuracy: 0.8148\n",
            "Epoch 18/50\n",
            "30/30 [==============================] - 13s 447ms/step - loss: 0.3375 - accuracy: 0.8632 - val_loss: 0.4076 - val_accuracy: 0.8519\n",
            "Epoch 19/50\n",
            "30/30 [==============================] - 13s 444ms/step - loss: 0.4499 - accuracy: 0.7991 - val_loss: 0.4265 - val_accuracy: 0.8148\n",
            "Epoch 20/50\n",
            "30/30 [==============================] - 13s 443ms/step - loss: 0.3145 - accuracy: 0.8675 - val_loss: 0.5279 - val_accuracy: 0.8148\n",
            "Epoch 21/50\n",
            "30/30 [==============================] - 13s 441ms/step - loss: 0.3022 - accuracy: 0.8803 - val_loss: 0.4703 - val_accuracy: 0.7778\n",
            "Epoch 22/50\n",
            "30/30 [==============================] - 13s 442ms/step - loss: 0.3055 - accuracy: 0.8718 - val_loss: 0.5180 - val_accuracy: 0.8148\n",
            "Epoch 23/50\n",
            "30/30 [==============================] - 13s 441ms/step - loss: 0.3969 - accuracy: 0.7991 - val_loss: 0.4643 - val_accuracy: 0.8148\n",
            "Epoch 24/50\n",
            "30/30 [==============================] - 13s 444ms/step - loss: 0.3988 - accuracy: 0.8162 - val_loss: 0.4228 - val_accuracy: 0.7778\n",
            "Epoch 25/50\n",
            "30/30 [==============================] - 13s 441ms/step - loss: 0.3250 - accuracy: 0.8590 - val_loss: 0.4608 - val_accuracy: 0.7778\n"
          ]
        }
      ]
    },
    {
      "cell_type": "code",
      "metadata": {
        "colab": {
          "base_uri": "https://localhost:8080/"
        },
        "id": "3gBiEya_FqD6",
        "outputId": "9d5ba82d-e743-4222-bb35-6e2d7a7bc165"
      },
      "source": [
        "vgg_score= model.evaluate(X_test,y_test, batch_size=8, verbose=2)"
      ],
      "id": "3gBiEya_FqD6",
      "execution_count": null,
      "outputs": [
        {
          "output_type": "stream",
          "name": "stdout",
          "text": [
            "4/4 - 1s - loss: 0.6837 - accuracy: 0.7000 - 1s/epoch - 349ms/step\n"
          ]
        }
      ]
    },
    {
      "cell_type": "code",
      "metadata": {
        "id": "b_x0bdRkx6nn"
      },
      "source": [
        "import matplotlib.pyplot as plt\n"
      ],
      "id": "b_x0bdRkx6nn",
      "execution_count": null,
      "outputs": []
    },
    {
      "cell_type": "code",
      "metadata": {
        "id": "lf8rg8zvw65c"
      },
      "source": [
        "def plot_metric(metric_name_1, metric_name_2, plot_name):\n",
        "  # Get Metric values using metric names as identifiers\n",
        "  metric_value_1 = model_training_history.history[metric_name_1]\n",
        "  metric_value_2 = model_training_history.history[metric_name_2]\n",
        "\n",
        "  # Constructing a range object which will be used as time \n",
        "  epochs = range(len(metric_value_1))\n",
        "  \n",
        "  # Plotting the Graph\n",
        "  plt.plot(epochs, metric_value_1, 'blue', label = metric_name_1)\n",
        "  plt.plot(epochs, metric_value_2, 'red', label = metric_name_2)\n",
        "  \n",
        "  # Adding title to the plot\n",
        "  plt.title(str(plot_name))\n",
        "\n",
        "  # Adding legend to the plot\n",
        "  plt.legend()\n",
        " "
      ],
      "id": "lf8rg8zvw65c",
      "execution_count": null,
      "outputs": []
    },
    {
      "cell_type": "code",
      "metadata": {
        "id": "db7QB6Cqw7Wr"
      },
      "source": [
        "history_loss, history_accuracy = vgg_score"
      ],
      "id": "db7QB6Cqw7Wr",
      "execution_count": null,
      "outputs": []
    },
    {
      "cell_type": "code",
      "metadata": {
        "id": "rlb3K-78w7sx"
      },
      "source": [
        "def plot_metric(metric_name_1, metric_name_2, plot_name):\n",
        "  # Get Metric values using metric names as identifiers\n",
        "  metric_value_1 = history.history[metric_name_1]\n",
        "  metric_value_2 = history.history[metric_name_2]\n",
        "\n",
        "  # Constructing a range object which will be used as time \n",
        "  epochs = range(len(metric_value_1))\n",
        "  \n",
        "  # Plotting the Graph\n",
        "  plt.plot(epochs, metric_value_1, 'blue', label = metric_name_1)\n",
        "  plt.plot(epochs, metric_value_2, 'red', label = metric_name_2)\n",
        "  \n",
        "  # Adding title to the plot\n",
        "  plt.title(str(plot_name))\n",
        "\n",
        "  # Adding legend to the plot\n",
        "  plt.legend()"
      ],
      "id": "rlb3K-78w7sx",
      "execution_count": null,
      "outputs": []
    },
    {
      "cell_type": "code",
      "metadata": {
        "colab": {
          "base_uri": "https://localhost:8080/",
          "height": 281
        },
        "id": "dNuFNOfew79s",
        "outputId": "a9dde531-7ea6-4793-f240-4b54915d0171"
      },
      "source": [
        "plot_metric('loss', 'val_loss', 'Total Loss vs Total Validation Loss')"
      ],
      "id": "dNuFNOfew79s",
      "execution_count": null,
      "outputs": [
        {
          "output_type": "display_data",
          "data": {
            "text/plain": [
              "<Figure size 432x288 with 1 Axes>"
            ],
            "image/png": "[encoded data removed]"
          },
          "metadata": {
            "needs_background": "light"
          }
        }
      ]
    },
    {
      "cell_type": "code",
      "metadata": {
        "colab": {
          "base_uri": "https://localhost:8080/"
        },
        "id": "u8dYHvW9w8g-",
        "outputId": "7fe72679-99fc-459e-c7cb-084903465637"
      },
      "source": [
        "from sklearn.metrics import classification_report\n",
        "y_pred = model.predict(X_test)\n",
        "\n",
        "\n",
        "y_pred = np.argmax(y_pred, axis = 1)\n",
        "y_test = np.argmax(y_test, axis = 1)\n",
        "print(classification_report(y_test, y_pred))"
      ],
      "id": "u8dYHvW9w8g-",
      "execution_count": null,
      "outputs": [
        {
          "output_type": "stream",
          "name": "stdout",
          "text": [
            "              precision    recall  f1-score   support\n",
            "\n",
            "           0       0.75      0.60      0.67        15\n",
            "           1       0.67      0.80      0.73        15\n",
            "\n",
            "    accuracy                           0.70        30\n",
            "   macro avg       0.71      0.70      0.70        30\n",
            "weighted avg       0.71      0.70      0.70        30\n",
            "\n"
          ]
        }
      ]
    },
    {
      "cell_type": "code",
      "source": [
        "plt.plot(history.history['accuracy'])\n",
        "plt.plot(history.history['val_accuracy'])\n",
        "plt.title('model accuracy')\n",
        "plt.ylabel('accuracy')\n",
        "plt.xlabel('epoch')\n",
        "plt.legend(['train', 'val'], loc='upper left')\n",
        "plt.show()"
      ],
      "metadata": {
        "colab": {
          "base_uri": "https://localhost:8080/",
          "height": 295
        },
        "id": "gTrQLNBKs64L",
        "outputId": "9a1ae579-a586-4b6c-a19f-fad4da0fd7e8"
      },
      "id": "gTrQLNBKs64L",
      "execution_count": null,
      "outputs": [
        {
          "output_type": "display_data",
          "data": {
            "text/plain": [
              "<Figure size 432x288 with 1 Axes>"
            ],
            "image/png": "[encoded data removed]"
          },
          "metadata": {
            "needs_background": "light"
          }
        }
      ]
    },
    {
      "cell_type": "code",
      "metadata": {
        "id": "nh3VlSeOw83n",
        "colab": {
          "base_uri": "https://localhost:8080/",
          "height": 284
        },
        "outputId": "c8f001c7-387d-47f0-d680-52a2a1809245"
      },
      "source": [
        "from sklearn.metrics import confusion_matrix\n",
        "import seaborn as sns\n",
        "matrix_confusion = confusion_matrix(y_test, y_pred)\n",
        "sns.heatmap(matrix_confusion, square=True, annot=True, cmap='Blues', fmt='d', cbar=False)"
      ],
      "id": "nh3VlSeOw83n",
      "execution_count": null,
      "outputs": [
        {
          "output_type": "execute_result",
          "data": {
            "text/plain": [
              "<matplotlib.axes._subplots.AxesSubplot at 0x7f1f62f617d0>"
            ]
          },
          "metadata": {},
          "execution_count": 95
        },
        {
          "output_type": "display_data",
          "data": {
            "text/plain": [
              "<Figure size 432x288 with 1 Axes>"
            ],
            "image/png": "[encoded data removed]"
          },
          "metadata": {
            "needs_background": "light"
          }
        }
      ]
    },
    {
      "cell_type": "code",
      "source": [
        "import pandas as pd\n",
        "y_true=y_test\n",
        "con_mat = tf.math.confusion_matrix(labels=y_true, predictions=y_pred).numpy()\n",
        "con_mat_norm = np.around(con_mat.astype('float') / con_mat.sum(axis=1)[:, np.newaxis], decimals=2)\n",
        "\n",
        "con_mat_df = pd.DataFrame(con_mat_norm,\n",
        "                     index = classes, \n",
        "                     columns = classes)\n",
        "\n",
        "figure = plt.figure(figsize=(8, 8))\n",
        "sns.heatmap(con_mat_df, annot=True,cmap=plt.cm.Blues)\n",
        "plt.tight_layout()\n",
        "plt.ylabel('True label')\n",
        "plt.xlabel('Predicted label')\n",
        "plt.show()"
      ],
      "metadata": {
        "colab": {
          "base_uri": "https://localhost:8080/",
          "height": 599
        },
        "id": "gzG9TiubtLR_",
        "outputId": "b4ad0b41-76e3-4d27-8c45-0479088dc061"
      },
      "id": "gzG9TiubtLR_",
      "execution_count": null,
      "outputs": [
        {
          "output_type": "display_data",
          "data": {
            "text/plain": [
              "<Figure size 576x576 with 2 Axes>"
            ],
            "image/png": "[encoded data removed]"
          },
          "metadata": {
            "needs_background": "light"
          }
        }
      ]
    },
    {
      "cell_type": "code",
      "metadata": {
        "id": "g8Kinjg_yrl9"
      },
      "source": [
        "from keras.layers.wrappers import Bidirectional"
      ],
      "id": "g8Kinjg_yrl9",
      "execution_count": null,
      "outputs": []
    },
    {
      "cell_type": "code",
      "metadata": {
        "id": "uWzYKCrRyV2s"
      },
      "source": [
        "video = Input(shape=(seq_len,img_height,img_width,CHANNELS))\n",
        "                     \n",
        "cnn_base = VGG16(input_shape=(img_height,img_width,CHANNELS),weights=\"imagenet\",include_top=False)\n",
        "                 \n",
        "cnn_out = GlobalAveragePooling2D()(cnn_base.output)\n",
        "\n",
        "cnn = Model(inputs=cnn_base.input, outputs=cnn_out)\n",
        "\n",
        "\n",
        "cnn.trainable = False\n",
        "\n",
        "encoded_frames = TimeDistributed(cnn)(video)\n",
        "encoded_sequence =Bidirectional(LSTM(256))(encoded_frames)\n",
        "hidden_layer = Dense(256, activation=\"relu\")(encoded_sequence)\n",
        "outputs = Dense(2, activation=\"softmax\")(hidden_layer)\n",
        "model = Model([video], outputs)"
      ],
      "id": "uWzYKCrRyV2s",
      "execution_count": null,
      "outputs": []
    },
    {
      "cell_type": "code",
      "metadata": {
        "id": "X1FAs_QMzu1O",
        "colab": {
          "base_uri": "https://localhost:8080/"
        },
        "outputId": "f864f136-972c-449f-d324-febe64707655"
      },
      "source": [
        "epochs=50\n",
        "opt = keras.optimizers.SGD(lr=0.001 ,momentum = 0.9, decay = 1e-4/epochs)\n",
        "#model_convnet.compile(loss='categorical_crossentropy', optimizer=opt, metrics=[\"accuracy\"])\n",
        "earlystop = EarlyStopping(patience=7)\n",
        "callbacks = [earlystop]"
      ],
      "id": "X1FAs_QMzu1O",
      "execution_count": null,
      "outputs": [
        {
          "output_type": "stream",
          "name": "stderr",
          "text": [
            "/usr/local/lib/python3.7/dist-packages/keras/optimizer_v2/gradient_descent.py:102: UserWarning: The `lr` argument is deprecated, use `learning_rate` instead.\n",
            "  super(SGD, self).__init__(name, **kwargs)\n"
          ]
        }
      ]
    },
    {
      "cell_type": "code",
      "metadata": {
        "id": "0zhFGhJazzsk"
      },
      "source": [
        "model.compile(loss='categorical_crossentropy', optimizer=opt, metrics=[\"accuracy\"])"
      ],
      "id": "0zhFGhJazzsk",
      "execution_count": null,
      "outputs": []
    },
    {
      "cell_type": "code",
      "metadata": {
        "id": "_9UVRB6vz4sh"
      },
      "source": [
        "X_train, X_test, y_train, y_test = train_test_split(X, Y, test_size=0.1, shuffle=True, random_state=0)"
      ],
      "id": "_9UVRB6vz4sh",
      "execution_count": null,
      "outputs": []
    },
    {
      "cell_type": "code",
      "metadata": {
        "colab": {
          "base_uri": "https://localhost:8080/"
        },
        "id": "WKU3Fj-c0EHR",
        "outputId": "2318226c-7071-4931-fbf8-0b780c29155f"
      },
      "source": [
        "history = model.fit(x = X_train, y = y_train, epochs=epochs, batch_size = 8 , shuffle=True, validation_split=0.1,callbacks=callbacks)"
      ],
      "id": "WKU3Fj-c0EHR",
      "execution_count": null,
      "outputs": [
        {
          "output_type": "stream",
          "name": "stdout",
          "text": [
            "Epoch 1/50\n",
            "30/30 [==============================] - 27s 702ms/step - loss: 0.6764 - accuracy: 0.6282 - val_loss: 0.6394 - val_accuracy: 0.5926\n",
            "Epoch 2/50\n",
            "30/30 [==============================] - 20s 677ms/step - loss: 0.6097 - accuracy: 0.6496 - val_loss: 0.5978 - val_accuracy: 0.7407\n",
            "Epoch 3/50\n",
            "30/30 [==============================] - 20s 685ms/step - loss: 0.5722 - accuracy: 0.6923 - val_loss: 0.6944 - val_accuracy: 0.4444\n",
            "Epoch 4/50\n",
            "30/30 [==============================] - 21s 689ms/step - loss: 0.5264 - accuracy: 0.7436 - val_loss: 0.6115 - val_accuracy: 0.5926\n",
            "Epoch 5/50\n",
            "30/30 [==============================] - 20s 678ms/step - loss: 0.4785 - accuracy: 0.8077 - val_loss: 0.6013 - val_accuracy: 0.7037\n",
            "Epoch 6/50\n",
            "30/30 [==============================] - 20s 671ms/step - loss: 0.4509 - accuracy: 0.8419 - val_loss: 0.5534 - val_accuracy: 0.7407\n",
            "Epoch 7/50\n",
            "30/30 [==============================] - 20s 684ms/step - loss: 0.4202 - accuracy: 0.8376 - val_loss: 0.5063 - val_accuracy: 0.7778\n",
            "Epoch 8/50\n",
            "30/30 [==============================] - 20s 676ms/step - loss: 0.3756 - accuracy: 0.8419 - val_loss: 0.5668 - val_accuracy: 0.7037\n",
            "Epoch 9/50\n",
            "30/30 [==============================] - 20s 676ms/step - loss: 0.5861 - accuracy: 0.6624 - val_loss: 0.5147 - val_accuracy: 0.8519\n",
            "Epoch 10/50\n",
            "30/30 [==============================] - 20s 675ms/step - loss: 0.4483 - accuracy: 0.8077 - val_loss: 0.5509 - val_accuracy: 0.7407\n",
            "Epoch 11/50\n",
            "30/30 [==============================] - 20s 674ms/step - loss: 0.4125 - accuracy: 0.8248 - val_loss: 0.4725 - val_accuracy: 0.8148\n",
            "Epoch 12/50\n",
            "30/30 [==============================] - 20s 673ms/step - loss: 0.3519 - accuracy: 0.8718 - val_loss: 0.4745 - val_accuracy: 0.8148\n",
            "Epoch 13/50\n",
            "30/30 [==============================] - 20s 664ms/step - loss: 0.3403 - accuracy: 0.8504 - val_loss: 0.5774 - val_accuracy: 0.8148\n",
            "Epoch 14/50\n",
            "30/30 [==============================] - 20s 671ms/step - loss: 0.3472 - accuracy: 0.8291 - val_loss: 0.5713 - val_accuracy: 0.7778\n",
            "Epoch 15/50\n",
            "30/30 [==============================] - 20s 668ms/step - loss: 0.3460 - accuracy: 0.8462 - val_loss: 0.4784 - val_accuracy: 0.8148\n",
            "Epoch 16/50\n",
            "30/30 [==============================] - 20s 674ms/step - loss: 0.2994 - accuracy: 0.8632 - val_loss: 0.4522 - val_accuracy: 0.7778\n",
            "Epoch 17/50\n",
            "30/30 [==============================] - 20s 675ms/step - loss: 0.2720 - accuracy: 0.8846 - val_loss: 0.4390 - val_accuracy: 0.8148\n",
            "Epoch 18/50\n",
            "30/30 [==============================] - 20s 674ms/step - loss: 0.3040 - accuracy: 0.8761 - val_loss: 0.8506 - val_accuracy: 0.6667\n",
            "Epoch 19/50\n",
            "30/30 [==============================] - 20s 667ms/step - loss: 0.2862 - accuracy: 0.8889 - val_loss: 0.4687 - val_accuracy: 0.7778\n",
            "Epoch 20/50\n",
            "30/30 [==============================] - 20s 667ms/step - loss: 0.2825 - accuracy: 0.8803 - val_loss: 0.4566 - val_accuracy: 0.8519\n",
            "Epoch 21/50\n",
            "30/30 [==============================] - 20s 671ms/step - loss: 0.3092 - accuracy: 0.8718 - val_loss: 0.5417 - val_accuracy: 0.8148\n",
            "Epoch 22/50\n",
            "30/30 [==============================] - 20s 667ms/step - loss: 0.2617 - accuracy: 0.8889 - val_loss: 0.4338 - val_accuracy: 0.8148\n",
            "Epoch 23/50\n",
            "30/30 [==============================] - 20s 673ms/step - loss: 0.2641 - accuracy: 0.8889 - val_loss: 0.7326 - val_accuracy: 0.7037\n",
            "Epoch 24/50\n",
            "30/30 [==============================] - 20s 666ms/step - loss: 0.2581 - accuracy: 0.9103 - val_loss: 0.4037 - val_accuracy: 0.8148\n",
            "Epoch 25/50\n",
            "30/30 [==============================] - 20s 670ms/step - loss: 0.2689 - accuracy: 0.8889 - val_loss: 0.7910 - val_accuracy: 0.6667\n",
            "Epoch 26/50\n",
            "30/30 [==============================] - 20s 671ms/step - loss: 0.3744 - accuracy: 0.8376 - val_loss: 0.4239 - val_accuracy: 0.8148\n",
            "Epoch 27/50\n",
            "30/30 [==============================] - 20s 667ms/step - loss: 0.2550 - accuracy: 0.8932 - val_loss: 0.6813 - val_accuracy: 0.7407\n",
            "Epoch 28/50\n",
            "30/30 [==============================] - 20s 667ms/step - loss: 0.2524 - accuracy: 0.8889 - val_loss: 0.4994 - val_accuracy: 0.8148\n",
            "Epoch 29/50\n",
            "30/30 [==============================] - 20s 671ms/step - loss: 0.2434 - accuracy: 0.9145 - val_loss: 0.3774 - val_accuracy: 0.8889\n",
            "Epoch 30/50\n",
            "30/30 [==============================] - 20s 666ms/step - loss: 0.2927 - accuracy: 0.8761 - val_loss: 0.3953 - val_accuracy: 0.8519\n",
            "Epoch 31/50\n",
            "30/30 [==============================] - 21s 688ms/step - loss: 0.2688 - accuracy: 0.8974 - val_loss: 0.4286 - val_accuracy: 0.8148\n",
            "Epoch 32/50\n",
            "30/30 [==============================] - 20s 663ms/step - loss: 0.2287 - accuracy: 0.8889 - val_loss: 0.3826 - val_accuracy: 0.8148\n",
            "Epoch 33/50\n",
            "30/30 [==============================] - 20s 669ms/step - loss: 0.1831 - accuracy: 0.9316 - val_loss: 0.4329 - val_accuracy: 0.7407\n",
            "Epoch 34/50\n",
            "30/30 [==============================] - 20s 668ms/step - loss: 0.1999 - accuracy: 0.9274 - val_loss: 0.4240 - val_accuracy: 0.8148\n",
            "Epoch 35/50\n",
            "30/30 [==============================] - 20s 665ms/step - loss: 0.1908 - accuracy: 0.9188 - val_loss: 0.5042 - val_accuracy: 0.8148\n",
            "Epoch 36/50\n",
            "30/30 [==============================] - 20s 674ms/step - loss: 0.2032 - accuracy: 0.9103 - val_loss: 0.4774 - val_accuracy: 0.8148\n"
          ]
        }
      ]
    },
    {
      "cell_type": "code",
      "metadata": {
        "colab": {
          "base_uri": "https://localhost:8080/"
        },
        "id": "3PtMLA8i1crs",
        "outputId": "f4295074-7323-49a7-dbdf-ad084db53472"
      },
      "source": [
        "vgg_score2= model.evaluate(X_test,y_test, batch_size=8, verbose=2)"
      ],
      "id": "3PtMLA8i1crs",
      "execution_count": null,
      "outputs": [
        {
          "output_type": "stream",
          "name": "stdout",
          "text": [
            "4/4 - 1s - loss: 0.8689 - accuracy: 0.7333 - 1s/epoch - 327ms/step\n"
          ]
        }
      ]
    },
    {
      "cell_type": "code",
      "metadata": {
        "colab": {
          "base_uri": "https://localhost:8080/"
        },
        "id": "BNwsjo9Z3AjQ",
        "outputId": "cf28e4f5-f338-4a20-e367-8f586bb6d5b7"
      },
      "source": [
        "from sklearn.metrics import classification_report\n",
        "y_pred = model.predict(X_test)\n",
        "\n",
        "\n",
        "y_pred = np.argmax(y_pred, axis = 1)\n",
        "y_test = np.argmax(y_test, axis = 1)\n",
        "print(classification_report(y_test, y_pred))"
      ],
      "id": "BNwsjo9Z3AjQ",
      "execution_count": null,
      "outputs": [
        {
          "output_type": "stream",
          "name": "stdout",
          "text": [
            "WARNING:tensorflow:5 out of the last 8 calls to <function Model.make_predict_function.<locals>.predict_function at 0x7f1f6b9a7ef0> triggered tf.function retracing. Tracing is expensive and the excessive number of tracings could be due to (1) creating @tf.function repeatedly in a loop, (2) passing tensors with different shapes, (3) passing Python objects instead of tensors. For (1), please define your @tf.function outside of the loop. For (2), @tf.function has experimental_relax_shapes=True option that relaxes argument shapes that can avoid unnecessary retracing. For (3), please refer to https://www.tensorflow.org/guide/function#controlling_retracing and https://www.tensorflow.org/api_docs/python/tf/function for  more details.\n",
            "              precision    recall  f1-score   support\n",
            "\n",
            "           0       0.82      0.60      0.69        15\n",
            "           1       0.68      0.87      0.76        15\n",
            "\n",
            "    accuracy                           0.73        30\n",
            "   macro avg       0.75      0.73      0.73        30\n",
            "weighted avg       0.75      0.73      0.73        30\n",
            "\n"
          ]
        }
      ]
    },
    {
      "cell_type": "code",
      "metadata": {
        "id": "57Myesin3EmV"
      },
      "source": [
        "history_loss, history_accuracy = vgg_score2"
      ],
      "id": "57Myesin3EmV",
      "execution_count": null,
      "outputs": []
    },
    {
      "cell_type": "code",
      "metadata": {
        "id": "jjAXm8GM3Eff"
      },
      "source": [
        "def plot_metric(metric_name_1, metric_name_2, plot_name):\n",
        "  # Get Metric values using metric names as identifiers\n",
        "  metric_value_1 = history.history[metric_name_1]\n",
        "  metric_value_2 = history.history[metric_name_2]\n",
        "\n",
        "  # Constructing a range object which will be used as time \n",
        "  epochs = range(len(metric_value_1))\n",
        "  \n",
        "  # Plotting the Graph\n",
        "  plt.plot(epochs, metric_value_1, 'blue', label = metric_name_1)\n",
        "  plt.plot(epochs, metric_value_2, 'red', label = metric_name_2)\n",
        "  \n",
        "  # Adding title to the plot\n",
        "  plt.title(str(plot_name))\n",
        "\n",
        "  # Adding legend to the plot\n",
        "  plt.legend()"
      ],
      "id": "jjAXm8GM3Eff",
      "execution_count": null,
      "outputs": []
    },
    {
      "cell_type": "code",
      "metadata": {
        "colab": {
          "base_uri": "https://localhost:8080/",
          "height": 281
        },
        "id": "si9CuyFw3EV9",
        "outputId": "9e12ff7d-8320-4996-ea09-cd43ece6ba1a"
      },
      "source": [
        "plot_metric('loss', 'val_loss', 'Total Loss vs Total Validation Loss')"
      ],
      "id": "si9CuyFw3EV9",
      "execution_count": null,
      "outputs": [
        {
          "output_type": "display_data",
          "data": {
            "text/plain": [
              "<Figure size 432x288 with 1 Axes>"
            ],
            "image/png": "[encoded data removed]"
          },
          "metadata": {
            "needs_background": "light"
          }
        }
      ]
    },
    {
      "cell_type": "code",
      "source": [
        "plt.plot(history.history['accuracy'])\n",
        "plt.plot(history.history['val_accuracy'])\n",
        "plt.title('model accuracy')\n",
        "plt.ylabel('accuracy')\n",
        "plt.xlabel('epoch')\n",
        "plt.legend(['train', 'val'], loc='upper left')\n",
        "plt.show()"
      ],
      "metadata": {
        "colab": {
          "base_uri": "https://localhost:8080/",
          "height": 295
        },
        "id": "qfvg3kSuzBYN",
        "outputId": "5c425951-c9d9-4891-caf2-f67c012a1509"
      },
      "id": "qfvg3kSuzBYN",
      "execution_count": null,
      "outputs": [
        {
          "output_type": "display_data",
          "data": {
            "text/plain": [
              "<Figure size 432x288 with 1 Axes>"
            ],
            "image/png": "[encoded data removed]"
          },
          "metadata": {
            "needs_background": "light"
          }
        }
      ]
    },
    {
      "cell_type": "code",
      "source": [
        "from sklearn.metrics import confusion_matrix\n",
        "import seaborn as sns\n",
        "matrix_confusion = confusion_matrix(y_test, y_pred)\n",
        "sns.heatmap(matrix_confusion, square=True, annot=True, cmap='Blues', fmt='d', cbar=False)"
      ],
      "metadata": {
        "colab": {
          "base_uri": "https://localhost:8080/",
          "height": 284
        },
        "id": "BryVb5dezJmo",
        "outputId": "286b14de-39a2-409b-93b6-0b59a96d75c1"
      },
      "id": "BryVb5dezJmo",
      "execution_count": null,
      "outputs": [
        {
          "output_type": "execute_result",
          "data": {
            "text/plain": [
              "<matplotlib.axes._subplots.AxesSubplot at 0x7f1fef73cd10>"
            ]
          },
          "metadata": {},
          "execution_count": 110
        },
        {
          "output_type": "display_data",
          "data": {
            "text/plain": [
              "<Figure size 432x288 with 1 Axes>"
            ],
            "image/png": "[encoded data removed]"
          },
          "metadata": {
            "needs_background": "light"
          }
        }
      ]
    },
    {
      "cell_type": "code",
      "source": [
        "import pandas as pd\n",
        "y_true=y_test\n",
        "con_mat = tf.math.confusion_matrix(labels=y_true, predictions=y_pred).numpy()\n",
        "con_mat_norm = np.around(con_mat.astype('float') / con_mat.sum(axis=1)[:, np.newaxis], decimals=2)\n",
        "\n",
        "con_mat_df = pd.DataFrame(con_mat_norm,\n",
        "                     index = classes, \n",
        "                     columns = classes)\n",
        "\n",
        "figure = plt.figure(figsize=(8, 8))\n",
        "sns.heatmap(con_mat_df, annot=True,cmap=plt.cm.Blues)\n",
        "plt.tight_layout()\n",
        "plt.ylabel('True label')\n",
        "plt.xlabel('Predicted label')\n",
        "plt.show()"
      ],
      "metadata": {
        "colab": {
          "base_uri": "https://localhost:8080/",
          "height": 599
        },
        "id": "Cugb7k3qzLhK",
        "outputId": "35f444a0-6403-4a36-b1f0-690f04551437"
      },
      "id": "Cugb7k3qzLhK",
      "execution_count": null,
      "outputs": [
        {
          "output_type": "display_data",
          "data": {
            "text/plain": [
              "<Figure size 576x576 with 2 Axes>"
            ],
            "image/png": "[encoded data removed]"
          },
          "metadata": {
            "needs_background": "light"
          }
        }
      ]
    },
    {
      "cell_type": "markdown",
      "metadata": {
        "id": "M7m798dfdKm7"
      },
      "source": [
        "#efficient-lstm"
      ],
      "id": "M7m798dfdKm7"
    },
    {
      "cell_type": "code",
      "metadata": {
        "id": "rVjL0rZkYGDD"
      },
      "source": [
        "CHANNELS=3"
      ],
      "id": "rVjL0rZkYGDD",
      "execution_count": null,
      "outputs": []
    },
    {
      "cell_type": "code",
      "metadata": {
        "id": "kQjwTFxJ3EJE"
      },
      "source": [
        "from keras.applications.efficientnet import EfficientNetB7"
      ],
      "id": "kQjwTFxJ3EJE",
      "execution_count": null,
      "outputs": []
    },
    {
      "cell_type": "code",
      "metadata": {
        "colab": {
          "base_uri": "https://localhost:8080/"
        },
        "id": "FjMMXpdJ26U8",
        "outputId": "ac970813-bf54-4914-ad43-a392f6473b09"
      },
      "source": [
        "video = Input(shape=(seq_len,img_height,img_width,CHANNELS))\n",
        "                     \n",
        "cnn_base = EfficientNetB7(input_shape=(img_height,img_width,CHANNELS),weights=\"imagenet\",include_top=False)\n",
        "                 \n",
        "cnn_out = GlobalAveragePooling2D()(cnn_base.output)\n",
        "\n",
        "cnn = Model(inputs=cnn_base.input, outputs=cnn_out)\n",
        "\n",
        "\n",
        "cnn.trainable = False\n",
        "\n",
        "encoded_frames = TimeDistributed(cnn)(video)\n",
        "encoded_sequence =Bidirectional(LSTM(128))(encoded_frames)\n",
        "hidden_layer = Dense(64, activation=\"relu\")(encoded_sequence)\n",
        "outputs = Dense(2, activation=\"softmax\")(hidden_layer)\n",
        "model = Model([video], outputs)"
      ],
      "id": "FjMMXpdJ26U8",
      "execution_count": null,
      "outputs": [
        {
          "output_type": "stream",
          "name": "stdout",
          "text": [
            "Downloading data from https://storage.googleapis.com/keras-applications/efficientnetb7_notop.h5\n",
            "258080768/258076736 [==============================] - 3s 0us/step\n",
            "258088960/258076736 [==============================] - 3s 0us/step\n"
          ]
        }
      ]
    },
    {
      "cell_type": "code",
      "metadata": {
        "id": "TjBhp_goYWVd"
      },
      "source": [
        "opt = 'Adam'\n",
        "#model_convnet.compile(loss='categorical_crossentropy', optimizer=opt, metrics=[\"accuracy\"])\n",
        "earlystop = EarlyStopping(patience=7)\n",
        "callbacks = [earlystop]\n",
        "epochs=25"
      ],
      "id": "TjBhp_goYWVd",
      "execution_count": null,
      "outputs": []
    },
    {
      "cell_type": "code",
      "metadata": {
        "id": "qpsUzi2o3xFO"
      },
      "source": [
        "model.compile(loss='categorical_crossentropy', optimizer=opt, metrics=[\"accuracy\"])"
      ],
      "id": "qpsUzi2o3xFO",
      "execution_count": null,
      "outputs": []
    },
    {
      "cell_type": "code",
      "metadata": {
        "id": "PzWxCwaZ342O"
      },
      "source": [
        "X_train, X_test, y_train, y_test = train_test_split(X, Y, test_size=0.1, shuffle=True, random_state=0)"
      ],
      "id": "PzWxCwaZ342O",
      "execution_count": null,
      "outputs": []
    },
    {
      "cell_type": "code",
      "metadata": {
        "colab": {
          "base_uri": "https://localhost:8080/"
        },
        "id": "bxJcAu4V380J",
        "outputId": "8bca536e-80be-4fa4-9b0c-53db0528cd93"
      },
      "source": [
        "history = model.fit(x = X_train, y = y_train, epochs=epochs, batch_size = 8 , shuffle=True, validation_split=0.1,callbacks=callbacks)"
      ],
      "id": "bxJcAu4V380J",
      "execution_count": null,
      "outputs": [
        {
          "output_type": "stream",
          "name": "stdout",
          "text": [
            "Epoch 1/25\n",
            "30/30 [==============================] - 195s 4s/step - loss: 0.7173 - accuracy: 0.5043 - val_loss: 0.6890 - val_accuracy: 0.5926\n",
            "Epoch 2/25\n",
            "30/30 [==============================] - 109s 4s/step - loss: 0.6895 - accuracy: 0.5470 - val_loss: 0.6819 - val_accuracy: 0.5926\n",
            "Epoch 3/25\n",
            "30/30 [==============================] - 109s 4s/step - loss: 0.7107 - accuracy: 0.5085 - val_loss: 0.6765 - val_accuracy: 0.5926\n",
            "Epoch 4/25\n",
            "30/30 [==============================] - 109s 4s/step - loss: 0.6888 - accuracy: 0.5684 - val_loss: 0.6865 - val_accuracy: 0.5926\n",
            "Epoch 5/25\n",
            "30/30 [==============================] - 109s 4s/step - loss: 0.6959 - accuracy: 0.5342 - val_loss: 0.6797 - val_accuracy: 0.5926\n",
            "Epoch 6/25\n",
            "30/30 [==============================] - 109s 4s/step - loss: 0.6961 - accuracy: 0.5385 - val_loss: 0.6918 - val_accuracy: 0.5926\n",
            "Epoch 7/25\n",
            "30/30 [==============================] - 109s 4s/step - loss: 0.6854 - accuracy: 0.5256 - val_loss: 0.6759 - val_accuracy: 0.5926\n",
            "Epoch 8/25\n",
            "30/30 [==============================] - 109s 4s/step - loss: 0.6869 - accuracy: 0.5684 - val_loss: 0.6785 - val_accuracy: 0.5926\n",
            "Epoch 9/25\n",
            "30/30 [==============================] - 109s 4s/step - loss: 0.6988 - accuracy: 0.5171 - val_loss: 0.6779 - val_accuracy: 0.5926\n",
            "Epoch 10/25\n",
            "30/30 [==============================] - 109s 4s/step - loss: 0.6917 - accuracy: 0.5214 - val_loss: 0.6760 - val_accuracy: 0.5926\n",
            "Epoch 11/25\n",
            "30/30 [==============================] - 109s 4s/step - loss: 0.6936 - accuracy: 0.5684 - val_loss: 0.6786 - val_accuracy: 0.5926\n",
            "Epoch 12/25\n",
            "30/30 [==============================] - 109s 4s/step - loss: 0.6927 - accuracy: 0.5684 - val_loss: 0.6825 - val_accuracy: 0.5926\n",
            "Epoch 13/25\n",
            "30/30 [==============================] - 109s 4s/step - loss: 0.7078 - accuracy: 0.5043 - val_loss: 0.7264 - val_accuracy: 0.4074\n",
            "Epoch 14/25\n",
            "30/30 [==============================] - 109s 4s/step - loss: 0.7008 - accuracy: 0.5256 - val_loss: 0.6890 - val_accuracy: 0.5926\n"
          ]
        }
      ]
    },
    {
      "cell_type": "code",
      "metadata": {
        "colab": {
          "base_uri": "https://localhost:8080/"
        },
        "id": "khkVBDYd5KH9",
        "outputId": "4c39c99a-183a-449a-c3ef-7d21c383e716"
      },
      "source": [
        "effcient= model.evaluate(X_test,y_test, batch_size=8, verbose=2)"
      ],
      "id": "khkVBDYd5KH9",
      "execution_count": null,
      "outputs": [
        {
          "output_type": "stream",
          "name": "stdout",
          "text": [
            "4/4 - 18s - loss: 0.6824 - accuracy: 0.7333\n"
          ]
        }
      ]
    },
    {
      "cell_type": "code",
      "metadata": {
        "colab": {
          "base_uri": "https://localhost:8080/"
        },
        "id": "MBH9XLrwoJEa",
        "outputId": "d9c92d39-4b7e-49c5-f2c2-b6f57122085f"
      },
      "source": [
        "from sklearn.metrics import classification_report\n",
        "y_pred = model.predict(X_test, batch_size=8)\n",
        "\n",
        "\n",
        "y_pred = np.argmax(y_pred, axis = 1)\n",
        "y_test = np.argmax(y_test, axis = 1)\n",
        "print(classification_report(y_test, y_pred))"
      ],
      "id": "MBH9XLrwoJEa",
      "execution_count": null,
      "outputs": [
        {
          "output_type": "stream",
          "name": "stdout",
          "text": [
            "              precision    recall  f1-score   support\n",
            "\n",
            "           0       0.00      0.00      0.00         8\n",
            "           1       0.73      1.00      0.85        22\n",
            "\n",
            "    accuracy                           0.73        30\n",
            "   macro avg       0.37      0.50      0.42        30\n",
            "weighted avg       0.54      0.73      0.62        30\n",
            "\n"
          ]
        },
        {
          "output_type": "stream",
          "name": "stderr",
          "text": [
            "/usr/local/lib/python3.7/dist-packages/sklearn/metrics/_classification.py:1272: UndefinedMetricWarning: Precision and F-score are ill-defined and being set to 0.0 in labels with no predicted samples. Use `zero_division` parameter to control this behavior.\n",
            "  _warn_prf(average, modifier, msg_start, len(result))\n"
          ]
        }
      ]
    },
    {
      "cell_type": "code",
      "metadata": {
        "id": "kxAE9TAQoI6E"
      },
      "source": [
        "def plot_metric(metric_name_1, metric_name_2, plot_name):\n",
        "  # Get Metric values using metric names as identifiers\n",
        "  metric_value_1 = model_training_history.history[metric_name_1]\n",
        "  metric_value_2 = model_training_history.history[metric_name_2]\n",
        "\n",
        "  # Constructing a range object which will be used as time \n",
        "  epochs = range(len(metric_value_1))\n",
        "  \n",
        "  # Plotting the Graph\n",
        "  plt.plot(epochs, metric_value_1, 'blue', label = metric_name_1)\n",
        "  plt.plot(epochs, metric_value_2, 'red', label = metric_name_2)\n",
        "  \n",
        "  # Adding title to the plot\n",
        "  plt.title(str(plot_name))\n",
        "\n",
        "  # Adding legend to the plot\n",
        "  plt.legend()\n"
      ],
      "id": "kxAE9TAQoI6E",
      "execution_count": null,
      "outputs": []
    },
    {
      "cell_type": "code",
      "metadata": {
        "id": "14IJaeZsvjJN"
      },
      "source": [
        "def plot_metric(metric_name_1, metric_name_2, plot_name):\n",
        "  # Get Metric values using metric names as identifiers\n",
        "  metric_value_1 = model_training_history.history[metric_name_1]\n",
        "  metric_value_2 = model_training_history.history[metric_name_2]\n",
        "\n",
        "  # Constructing a range object which will be used as time \n",
        "  epochs = range(len(metric_value_1))\n",
        "  \n",
        "  # Plotting the Graph\n",
        "  plt.plot(epochs, metric_value_1, 'blue', label = metric_name_1)\n",
        "  plt.plot(epochs, metric_value_2, 'red', label = metric_name_2)\n",
        "  \n",
        "  # Adding title to the plot\n",
        "  plt.title(str(plot_name))\n",
        "\n",
        "  # Adding legend to the plot\n",
        "  plt.legend()\n",
        "def plot_metric(metric_name_1, metric_name_2, plot_name):\n",
        "  # Get Metric values using metric names as identifiers\n",
        "  metric_value_1 = history.history[metric_name_1]\n",
        "  metric_value_2 = history.history[metric_name_2]\n",
        "\n",
        "  # Constructing a range object which will be used as time \n",
        "  epochs = range(len(metric_value_1))\n",
        "  \n",
        "  # Plotting the Graph\n",
        "  plt.plot(epochs, metric_value_1, 'blue', label = metric_name_1)\n",
        "  plt.plot(epochs, metric_value_2, 'red', label = metric_name_2)\n",
        "  \n",
        "  # Adding title to the plot\n",
        "  plt.title(str(plot_name))\n",
        "\n",
        "  # Adding legend to the plot\n",
        "  plt.legend()  "
      ],
      "id": "14IJaeZsvjJN",
      "execution_count": null,
      "outputs": []
    },
    {
      "cell_type": "code",
      "metadata": {
        "colab": {
          "base_uri": "https://localhost:8080/",
          "height": 316
        },
        "id": "bmDNAWvPoIp7",
        "outputId": "0703460a-e92c-4c97-f048-53c2b918ca9d"
      },
      "source": [
        "history_loss, history_accuracy = effcient\n",
        "plot_metric('loss', 'val_loss', 'Total Loss vs Total Validation Loss')"
      ],
      "id": "bmDNAWvPoIp7",
      "execution_count": null,
      "outputs": [
        {
          "output_type": "error",
          "ename": "NameError",
          "evalue": "ignored",
          "traceback": [
            "\u001b[0;31m---------------------------------------------------------------------------\u001b[0m",
            "\u001b[0;31mNameError\u001b[0m                                 Traceback (most recent call last)",
            "\u001b[0;32m<ipython-input-27-40344273c3f4>\u001b[0m in \u001b[0;36m<module>\u001b[0;34m()\u001b[0m\n\u001b[1;32m      1\u001b[0m \u001b[0mhistory_loss\u001b[0m\u001b[0;34m,\u001b[0m \u001b[0mhistory_accuracy\u001b[0m \u001b[0;34m=\u001b[0m \u001b[0meffcient\u001b[0m\u001b[0;34m\u001b[0m\u001b[0;34m\u001b[0m\u001b[0m\n\u001b[0;32m----> 2\u001b[0;31m \u001b[0mplot_metric\u001b[0m\u001b[0;34m(\u001b[0m\u001b[0;34m'loss'\u001b[0m\u001b[0;34m,\u001b[0m \u001b[0;34m'val_loss'\u001b[0m\u001b[0;34m,\u001b[0m \u001b[0;34m'Total Loss vs Total Validation Loss'\u001b[0m\u001b[0;34m)\u001b[0m\u001b[0;34m\u001b[0m\u001b[0;34m\u001b[0m\u001b[0m\n\u001b[0m",
            "\u001b[0;32m<ipython-input-26-d87c5298635c>\u001b[0m in \u001b[0;36mplot_metric\u001b[0;34m(metric_name_1, metric_name_2, plot_name)\u001b[0m\n\u001b[1;32m     25\u001b[0m \u001b[0;34m\u001b[0m\u001b[0m\n\u001b[1;32m     26\u001b[0m   \u001b[0;31m# Plotting the Graph\u001b[0m\u001b[0;34m\u001b[0m\u001b[0;34m\u001b[0m\u001b[0;34m\u001b[0m\u001b[0m\n\u001b[0;32m---> 27\u001b[0;31m   \u001b[0mplt\u001b[0m\u001b[0;34m.\u001b[0m\u001b[0mplot\u001b[0m\u001b[0;34m(\u001b[0m\u001b[0mepochs\u001b[0m\u001b[0;34m,\u001b[0m \u001b[0mmetric_value_1\u001b[0m\u001b[0;34m,\u001b[0m \u001b[0;34m'blue'\u001b[0m\u001b[0;34m,\u001b[0m \u001b[0mlabel\u001b[0m \u001b[0;34m=\u001b[0m \u001b[0mmetric_name_1\u001b[0m\u001b[0;34m)\u001b[0m\u001b[0;34m\u001b[0m\u001b[0;34m\u001b[0m\u001b[0m\n\u001b[0m\u001b[1;32m     28\u001b[0m   \u001b[0mplt\u001b[0m\u001b[0;34m.\u001b[0m\u001b[0mplot\u001b[0m\u001b[0;34m(\u001b[0m\u001b[0mepochs\u001b[0m\u001b[0;34m,\u001b[0m \u001b[0mmetric_value_2\u001b[0m\u001b[0;34m,\u001b[0m \u001b[0;34m'red'\u001b[0m\u001b[0;34m,\u001b[0m \u001b[0mlabel\u001b[0m \u001b[0;34m=\u001b[0m \u001b[0mmetric_name_2\u001b[0m\u001b[0;34m)\u001b[0m\u001b[0;34m\u001b[0m\u001b[0;34m\u001b[0m\u001b[0m\n\u001b[1;32m     29\u001b[0m \u001b[0;34m\u001b[0m\u001b[0m\n",
            "\u001b[0;31mNameError\u001b[0m: name 'plt' is not defined"
          ]
        }
      ]
    },
    {
      "cell_type": "markdown",
      "metadata": {
        "id": "J_93q9-_dXbJ"
      },
      "source": [
        "#3dCNN\n"
      ],
      "id": "J_93q9-_dXbJ"
    },
    {
      "cell_type": "code",
      "metadata": {
        "id": "cmptasqT67uk"
      },
      "source": [
        ""
      ],
      "id": "cmptasqT67uk",
      "execution_count": null,
      "outputs": []
    },
    {
      "cell_type": "code",
      "metadata": {
        "colab": {
          "base_uri": "https://localhost:8080/"
        },
        "id": "JfQlwCvT67fv",
        "outputId": "13eb1c64-0d7c-4065-d50d-33ce131ff677"
      },
      "source": [
        "\n",
        "def get_model():\n",
        "\n",
        "    model = Sequential()\n",
        "    inputShape=(25, 90, 90,3)  #seq_length, width, height, channels\n",
        "\n",
        "    inputs = Input(inputShape)\n",
        "\n",
        "\n",
        "\n",
        "        # 1st layer group\n",
        "    conv1_3d=Conv3D(64, (3, 3, 3), activation='relu', padding='same',strides=(1, 1, 1))\n",
        "    pool1_3d=MaxPooling3D(pool_size=(1, 2, 2), strides=(1, 2, 2), padding='valid')\n",
        "  \n",
        "    \n",
        "    # 3rd layer group\n",
        "    conv3a_3d=Conv3D(32, (3, 3, 3), activation='relu', padding='same',strides=(1, 1, 1))\n",
        "\n",
        "    pool3_3d=MaxPooling3D(pool_size=(2, 2, 2), strides=(2, 2, 2), padding='valid',)\n",
        "\n",
        "\n",
        "\n",
        "\n",
        "\n",
        "\n",
        "\n",
        "    dense1_3d=Dense(32, activation='relu')\n",
        "    model.add(Dropout(.5))\n",
        "    dense2_3d=Dense(32, activation='relu')\n",
        "    model.add(Dropout(.5))\n",
        "    dense3_3d=Dense(2, activation='softmax')\n",
        "\n",
        "\n",
        "    x=conv1_3d(inputs)\n",
        "    x=pool1_3d(x)\n",
        " \n",
        "\n",
        "    x=conv3a_3d(x)\n",
        "\n",
        "    x=pool3_3d(x)\n",
        "\n",
        "\n",
        "\n",
        "    x = Flatten()(x)\n",
        "    x=dense1_3d(x)\n",
        "    x = Dropout(0.5)(x)\n",
        "    x=dense2_3d(x)\n",
        "    x = Dropout(0.5)(x)\n",
        "    x=dense3_3d(x)\n",
        "\n",
        "\n",
        "\n",
        "    model = Model(inputs, x)\n",
        "\n",
        "    return model\n",
        "\n",
        "\n",
        "model = get_model()\n",
        "model.summary()\n",
        " "
      ],
      "id": "JfQlwCvT67fv",
      "execution_count": null,
      "outputs": [
        {
          "output_type": "stream",
          "name": "stdout",
          "text": [
            "Model: \"model_1\"\n",
            "_________________________________________________________________\n",
            " Layer (type)                Output Shape              Param #   \n",
            "=================================================================\n",
            " input_2 (InputLayer)        [(None, 25, 90, 90, 3)]   0         \n",
            "                                                                 \n",
            " conv3d_2 (Conv3D)           (None, 25, 90, 90, 64)    5248      \n",
            "                                                                 \n",
            " max_pooling3d_2 (MaxPooling  (None, 25, 45, 45, 64)   0         \n",
            " 3D)                                                             \n",
            "                                                                 \n",
            " conv3d_3 (Conv3D)           (None, 25, 45, 45, 32)    55328     \n",
            "                                                                 \n",
            " max_pooling3d_3 (MaxPooling  (None, 12, 22, 22, 32)   0         \n",
            " 3D)                                                             \n",
            "                                                                 \n",
            " flatten_1 (Flatten)         (None, 185856)            0         \n",
            "                                                                 \n",
            " dense_3 (Dense)             (None, 32)                5947424   \n",
            "                                                                 \n",
            " dropout_6 (Dropout)         (None, 32)                0         \n",
            "                                                                 \n",
            " dense_4 (Dense)             (None, 32)                1056      \n",
            "                                                                 \n",
            " dropout_7 (Dropout)         (None, 32)                0         \n",
            "                                                                 \n",
            " dense_5 (Dense)             (None, 2)                 66        \n",
            "                                                                 \n",
            "=================================================================\n",
            "Total params: 6,009,122\n",
            "Trainable params: 6,009,122\n",
            "Non-trainable params: 0\n",
            "_________________________________________________________________\n"
          ]
        }
      ]
    },
    {
      "cell_type": "code",
      "metadata": {
        "id": "S8yJ-25zKnhJ"
      },
      "source": [
        "X_train, X_test, y_train, y_test = train_test_split(X, Y, test_size=0.10, shuffle=True, random_state=0)"
      ],
      "id": "S8yJ-25zKnhJ",
      "execution_count": null,
      "outputs": []
    },
    {
      "cell_type": "code",
      "metadata": {
        "id": "WZkVXqmfK6QV"
      },
      "source": [
        "epochs=50"
      ],
      "id": "WZkVXqmfK6QV",
      "execution_count": null,
      "outputs": []
    },
    {
      "cell_type": "code",
      "metadata": {
        "id": "q_ZIALr_K-1a"
      },
      "source": [
        "opt = 'Adam'\n",
        "model.compile(loss='categorical_crossentropy', optimizer=opt, metrics=[\"accuracy\"])"
      ],
      "id": "q_ZIALr_K-1a",
      "execution_count": null,
      "outputs": []
    },
    {
      "cell_type": "code",
      "metadata": {
        "id": "MPP1p-qSLB8P"
      },
      "source": [
        "earlystop = EarlyStopping(patience=7)\n",
        "callbacks = [earlystop]"
      ],
      "id": "MPP1p-qSLB8P",
      "execution_count": null,
      "outputs": []
    },
    {
      "cell_type": "code",
      "metadata": {
        "id": "EajmcL6dLFBR",
        "colab": {
          "base_uri": "https://localhost:8080/"
        },
        "outputId": "00bbac60-f062-4514-b9af-6d2557b30027"
      },
      "source": [
        "history = model.fit(x = X_train, y = y_train, epochs=epochs, batch_size = 6 , shuffle=True, validation_split=0.10, callbacks=callbacks)"
      ],
      "id": "EajmcL6dLFBR",
      "execution_count": null,
      "outputs": [
        {
          "output_type": "stream",
          "name": "stdout",
          "text": [
            "Epoch 1/50\n",
            "39/39 [==============================] - 16s 114ms/step - loss: 0.8805 - accuracy: 0.5598 - val_loss: 0.7121 - val_accuracy: 0.4444\n",
            "Epoch 2/50\n",
            "39/39 [==============================] - 4s 101ms/step - loss: 0.6742 - accuracy: 0.5897 - val_loss: 0.7076 - val_accuracy: 0.4444\n",
            "Epoch 3/50\n",
            "39/39 [==============================] - 4s 102ms/step - loss: 0.6747 - accuracy: 0.5812 - val_loss: 0.7246 - val_accuracy: 0.4444\n",
            "Epoch 4/50\n",
            "39/39 [==============================] - 4s 101ms/step - loss: 0.6677 - accuracy: 0.6026 - val_loss: 0.7151 - val_accuracy: 0.4444\n",
            "Epoch 5/50\n",
            "39/39 [==============================] - 4s 102ms/step - loss: 0.6290 - accuracy: 0.6838 - val_loss: 0.7837 - val_accuracy: 0.5185\n",
            "Epoch 6/50\n",
            "39/39 [==============================] - 4s 102ms/step - loss: 0.5654 - accuracy: 0.6880 - val_loss: 0.7727 - val_accuracy: 0.6296\n",
            "Epoch 7/50\n",
            "39/39 [==============================] - 4s 102ms/step - loss: 0.5091 - accuracy: 0.7350 - val_loss: 0.6205 - val_accuracy: 0.6667\n",
            "Epoch 8/50\n",
            "39/39 [==============================] - 4s 103ms/step - loss: 0.3961 - accuracy: 0.7735 - val_loss: 0.7643 - val_accuracy: 0.7407\n",
            "Epoch 9/50\n",
            "39/39 [==============================] - 4s 104ms/step - loss: 0.4172 - accuracy: 0.7692 - val_loss: 0.6048 - val_accuracy: 0.7037\n",
            "Epoch 10/50\n",
            "39/39 [==============================] - 4s 102ms/step - loss: 0.3241 - accuracy: 0.8034 - val_loss: 0.7364 - val_accuracy: 0.7037\n",
            "Epoch 11/50\n",
            "39/39 [==============================] - 4s 103ms/step - loss: 0.3053 - accuracy: 0.8205 - val_loss: 0.5528 - val_accuracy: 0.7407\n",
            "Epoch 12/50\n",
            "39/39 [==============================] - 4s 104ms/step - loss: 0.2563 - accuracy: 0.8675 - val_loss: 0.5561 - val_accuracy: 0.7037\n",
            "Epoch 13/50\n",
            "39/39 [==============================] - 4s 104ms/step - loss: 0.2725 - accuracy: 0.8547 - val_loss: 0.6800 - val_accuracy: 0.7778\n",
            "Epoch 14/50\n",
            "39/39 [==============================] - 4s 104ms/step - loss: 0.1738 - accuracy: 0.9359 - val_loss: 1.0535 - val_accuracy: 0.7407\n",
            "Epoch 15/50\n",
            "39/39 [==============================] - 4s 104ms/step - loss: 0.2105 - accuracy: 0.9060 - val_loss: 0.7064 - val_accuracy: 0.6667\n",
            "Epoch 16/50\n",
            "39/39 [==============================] - 4s 105ms/step - loss: 0.2110 - accuracy: 0.9145 - val_loss: 0.7713 - val_accuracy: 0.7778\n",
            "Epoch 17/50\n",
            "39/39 [==============================] - 4s 104ms/step - loss: 0.2144 - accuracy: 0.9444 - val_loss: 0.7487 - val_accuracy: 0.6667\n",
            "Epoch 18/50\n",
            "39/39 [==============================] - 4s 104ms/step - loss: 0.1430 - accuracy: 0.9573 - val_loss: 0.9888 - val_accuracy: 0.7037\n"
          ]
        }
      ]
    },
    {
      "cell_type": "code",
      "metadata": {
        "colab": {
          "base_uri": "https://localhost:8080/"
        },
        "id": "ECGxy0OJblEb",
        "outputId": "32261f6a-cacc-4c17-802b-e8c43c35a137"
      },
      "source": [
        "C3D= model.evaluate(X_test,y_test, batch_size=6, verbose=2)"
      ],
      "id": "ECGxy0OJblEb",
      "execution_count": null,
      "outputs": [
        {
          "output_type": "stream",
          "name": "stdout",
          "text": [
            "5/5 - 0s - loss: 1.2475 - accuracy: 0.7667 - 371ms/epoch - 74ms/step\n"
          ]
        }
      ]
    },
    {
      "cell_type": "code",
      "metadata": {
        "id": "snL8359scIYA"
      },
      "source": [
        "import matplotlib.pyplot as plt"
      ],
      "id": "snL8359scIYA",
      "execution_count": null,
      "outputs": []
    },
    {
      "cell_type": "code",
      "metadata": {
        "id": "ZGoF3eMfcKDu"
      },
      "source": [
        "def plot_metric(metric_name_1, metric_name_2, plot_name):\n",
        "  # Get Metric values using metric names as identifiers\n",
        "  metric_value_1 = model_training_history.history[metric_name_1]\n",
        "  metric_value_2 = model_training_history.history[metric_name_2]\n",
        "\n",
        "  # Constructing a range object which will be used as time \n",
        "  epochs = range(len(metric_value_1))\n",
        "  \n",
        "  # Plotting the Graph\n",
        "  plt.plot(epochs, metric_value_1, 'blue', label = metric_name_1)\n",
        "  plt.plot(epochs, metric_value_2, 'red', label = metric_name_2)\n",
        "  \n",
        "  # Adding title to the plot\n",
        "  plt.title(str(plot_name))\n",
        "\n",
        "  # Adding legend to the plot\n",
        "  plt.legend()"
      ],
      "id": "ZGoF3eMfcKDu",
      "execution_count": null,
      "outputs": []
    },
    {
      "cell_type": "code",
      "metadata": {
        "id": "M0safHj6cOis"
      },
      "source": [
        "history_loss, history_accuracy = C3D"
      ],
      "id": "M0safHj6cOis",
      "execution_count": null,
      "outputs": []
    },
    {
      "cell_type": "code",
      "metadata": {
        "id": "BDtn7EhpcWN4"
      },
      "source": [
        "def plot_metric(metric_name_1, metric_name_2, plot_name):\n",
        "  # Get Metric values using metric names as identifiers\n",
        "  metric_value_1 = history.history[metric_name_1]\n",
        "  metric_value_2 = history.history[metric_name_2]\n",
        "\n",
        "  # Constructing a range object which will be used as time \n",
        "  epochs = range(len(metric_value_1))\n",
        "  \n",
        "  # Plotting the Graph\n",
        "  plt.plot(epochs, metric_value_1, 'blue', label = metric_name_1)\n",
        "  plt.plot(epochs, metric_value_2, 'red', label = metric_name_2)\n",
        "  \n",
        "  # Adding title to the plot\n",
        "  plt.title(str(plot_name))\n",
        "\n",
        "  # Adding legend to the plot\n",
        "  plt.legend()"
      ],
      "id": "BDtn7EhpcWN4",
      "execution_count": null,
      "outputs": []
    },
    {
      "cell_type": "code",
      "metadata": {
        "colab": {
          "base_uri": "https://localhost:8080/",
          "height": 281
        },
        "id": "lanAgn4nccOZ",
        "outputId": "1a68e575-5979-47af-8097-9b8109f2c256"
      },
      "source": [
        "plot_metric('loss', 'val_loss', 'Total Loss vs Total Validation Loss')"
      ],
      "id": "lanAgn4nccOZ",
      "execution_count": null,
      "outputs": [
        {
          "output_type": "display_data",
          "data": {
            "text/plain": [
              "<Figure size 432x288 with 1 Axes>"
            ],
            "image/png": "[encoded data removed]"
          },
          "metadata": {
            "needs_background": "light"
          }
        }
      ]
    },
    {
      "cell_type": "code",
      "metadata": {
        "colab": {
          "base_uri": "https://localhost:8080/"
        },
        "id": "srl0mZ1jdU1L",
        "outputId": "ae3a16c8-fe8e-4e82-b4b4-344c8021aef6"
      },
      "source": [
        "from sklearn.metrics import classification_report\n",
        "y_pred = model.predict([X_test], batch_size=5)\n",
        "\n",
        "\n",
        "y_pred = np.argmax(y_pred, axis = 1)\n",
        "y_test = np.argmax(y_test, axis = 1)\n",
        "print(classification_report(y_test, y_pred))"
      ],
      "id": "srl0mZ1jdU1L",
      "execution_count": null,
      "outputs": [
        {
          "output_type": "stream",
          "name": "stdout",
          "text": [
            "              precision    recall  f1-score   support\n",
            "\n",
            "           0       0.83      0.67      0.74        15\n",
            "           1       0.72      0.87      0.79        15\n",
            "\n",
            "    accuracy                           0.77        30\n",
            "   macro avg       0.78      0.77      0.76        30\n",
            "weighted avg       0.78      0.77      0.76        30\n",
            "\n"
          ]
        }
      ]
    },
    {
      "cell_type": "code",
      "metadata": {
        "id": "dX6yNSb6fqtG"
      },
      "source": [
        "from sklearn.metrics import confusion_matrix"
      ],
      "id": "dX6yNSb6fqtG",
      "execution_count": null,
      "outputs": []
    },
    {
      "cell_type": "code",
      "metadata": {
        "colab": {
          "base_uri": "https://localhost:8080/",
          "height": 244
        },
        "id": "J3izikhDf9-B",
        "outputId": "189f035a-3fa7-4a6f-d675-82b62110024a"
      },
      "source": [
        "from sklearn.metrics import confusion_matrix\n",
        "mat= confusion_matrix(y_pred,y_test)\n",
        "print(mat)\n",
        "from seaborn import heatmap\n",
        "heatmap(mat , cmap=\"Pastel1_r\", xticklabels=['class(non violent)', 'class(violent)'], yticklabels=['class(non violent)','class(violent)'], annot=True)"
      ],
      "id": "J3izikhDf9-B",
      "execution_count": null,
      "outputs": [
        {
          "output_type": "error",
          "ename": "NameError",
          "evalue": "ignored",
          "traceback": [
            "\u001b[0;31m---------------------------------------------------------------------------\u001b[0m",
            "\u001b[0;31mNameError\u001b[0m                                 Traceback (most recent call last)",
            "\u001b[0;32m<ipython-input-1-4e70db447ef0>\u001b[0m in \u001b[0;36m<module>\u001b[0;34m()\u001b[0m\n\u001b[1;32m      1\u001b[0m \u001b[0;32mfrom\u001b[0m \u001b[0msklearn\u001b[0m\u001b[0;34m.\u001b[0m\u001b[0mmetrics\u001b[0m \u001b[0;32mimport\u001b[0m \u001b[0mconfusion_matrix\u001b[0m\u001b[0;34m\u001b[0m\u001b[0;34m\u001b[0m\u001b[0m\n\u001b[0;32m----> 2\u001b[0;31m \u001b[0mmat\u001b[0m\u001b[0;34m=\u001b[0m \u001b[0mconfusion_matrix\u001b[0m\u001b[0;34m(\u001b[0m\u001b[0my_pred\u001b[0m\u001b[0;34m,\u001b[0m\u001b[0my_test\u001b[0m\u001b[0;34m)\u001b[0m\u001b[0;34m\u001b[0m\u001b[0;34m\u001b[0m\u001b[0m\n\u001b[0m\u001b[1;32m      3\u001b[0m \u001b[0mprint\u001b[0m\u001b[0;34m(\u001b[0m\u001b[0mmat\u001b[0m\u001b[0;34m)\u001b[0m\u001b[0;34m\u001b[0m\u001b[0;34m\u001b[0m\u001b[0m\n\u001b[1;32m      4\u001b[0m \u001b[0;32mfrom\u001b[0m \u001b[0mseaborn\u001b[0m \u001b[0;32mimport\u001b[0m \u001b[0mheatmap\u001b[0m\u001b[0;34m\u001b[0m\u001b[0;34m\u001b[0m\u001b[0m\n\u001b[1;32m      5\u001b[0m \u001b[0mheatmap\u001b[0m\u001b[0;34m(\u001b[0m\u001b[0mmat\u001b[0m \u001b[0;34m,\u001b[0m \u001b[0mcmap\u001b[0m\u001b[0;34m=\u001b[0m\u001b[0;34m\"Pastel1_r\"\u001b[0m\u001b[0;34m,\u001b[0m \u001b[0mxticklabels\u001b[0m\u001b[0;34m=\u001b[0m\u001b[0;34m[\u001b[0m\u001b[0;34m'class(non violent)'\u001b[0m\u001b[0;34m,\u001b[0m \u001b[0;34m'class(violent)'\u001b[0m\u001b[0;34m]\u001b[0m\u001b[0;34m,\u001b[0m \u001b[0myticklabels\u001b[0m\u001b[0;34m=\u001b[0m\u001b[0;34m[\u001b[0m\u001b[0;34m'class(non violent)'\u001b[0m\u001b[0;34m,\u001b[0m\u001b[0;34m'class(violent)'\u001b[0m\u001b[0;34m]\u001b[0m\u001b[0;34m,\u001b[0m \u001b[0mannot\u001b[0m\u001b[0;34m=\u001b[0m\u001b[0;32mTrue\u001b[0m\u001b[0;34m)\u001b[0m\u001b[0;34m\u001b[0m\u001b[0;34m\u001b[0m\u001b[0m\n",
            "\u001b[0;31mNameError\u001b[0m: name 'y_pred' is not defined"
          ]
        }
      ]
    },
    {
      "cell_type": "code",
      "source": [
        "plt.plot(history.history['accuracy'])\n",
        "plt.plot(history.history['val_accuracy'])\n",
        "plt.title('model accuracy')\n",
        "plt.ylabel('accuracy')\n",
        "plt.xlabel('epoch')\n",
        "plt.legend(['train', 'val'], loc='upper left')\n",
        "plt.show()"
      ],
      "metadata": {
        "colab": {
          "base_uri": "https://localhost:8080/",
          "height": 295
        },
        "id": "7kB6mD4v7rtF",
        "outputId": "72628984-5bb9-4ab4-b203-286f408e07a8"
      },
      "id": "7kB6mD4v7rtF",
      "execution_count": null,
      "outputs": [
        {
          "output_type": "display_data",
          "data": {
            "text/plain": [
              "<Figure size 432x288 with 1 Axes>"
            ],
            "image/png": "[encoded data removed]"
          },
          "metadata": {
            "needs_background": "light"
          }
        }
      ]
    },
    {
      "cell_type": "code",
      "source": [
        "from sklearn.metrics import confusion_matrix\n",
        "import seaborn as sns\n",
        "matrix_confusion = confusion_matrix(y_test, y_pred)\n",
        "sns.heatmap(matrix_confusion, square=True, annot=True, cmap='Blues', fmt='d', cbar=False)"
      ],
      "metadata": {
        "colab": {
          "base_uri": "https://localhost:8080/",
          "height": 284
        },
        "id": "nuqOqqqa71jj",
        "outputId": "c5bb9092-150a-48a4-d2c0-0f1462a2a379"
      },
      "id": "nuqOqqqa71jj",
      "execution_count": null,
      "outputs": [
        {
          "output_type": "execute_result",
          "data": {
            "text/plain": [
              "<matplotlib.axes._subplots.AxesSubplot at 0x7f25de3ffd90>"
            ]
          },
          "metadata": {},
          "execution_count": 28
        },
        {
          "output_type": "display_data",
          "data": {
            "text/plain": [
              "<Figure size 432x288 with 1 Axes>"
            ],
            "image/png": "[encoded data removed]"
          },
          "metadata": {
            "needs_background": "light"
          }
        }
      ]
    }
  ]
}